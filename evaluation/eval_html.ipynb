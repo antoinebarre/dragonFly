{
 "cells": [
  {
   "attachments": {},
   "cell_type": "markdown",
   "metadata": {},
   "source": [
    "# Evaluation of HTML report with JINJA2\n",
    "\n",
    "see: https://realpython.com/primer-on-jinja-templating/"
   ]
  },
  {
   "cell_type": "code",
   "execution_count": 5,
   "metadata": {},
   "outputs": [
    {
     "data": {
      "text/plain": [
       "'Hello, World!'"
      ]
     },
     "execution_count": 5,
     "metadata": {},
     "output_type": "execute_result"
    }
   ],
   "source": [
    "import jinja2\n",
    "environment = jinja2.Environment()\n",
    "template = environment.from_string(\"Hello, {{ name }}!\")\n",
    "template.render(name=\"World\")"
   ]
  },
  {
   "cell_type": "code",
   "execution_count": 8,
   "metadata": {},
   "outputs": [
    {
     "name": "stdout",
     "output_type": "stream",
     "text": [
      "... wrote message_sandrine.txt\n",
      "... wrote message_gergeley.txt\n",
      "... wrote message_frieda.txt\n"
     ]
    }
   ],
   "source": [
    "# write_messages.py\n",
    "\n",
    "from jinja2 import Environment, FileSystemLoader\n",
    "\n",
    "max_score = 100\n",
    "test_name = \"Python Challenge\"\n",
    "students = [\n",
    "    {\"name\": \"Sandrine\",  \"score\": 100},\n",
    "    {\"name\": \"Gergeley\", \"score\": 87},\n",
    "    {\"name\": \"Frieda\", \"score\": 92},\n",
    "]\n",
    "\n",
    "environment = Environment(loader=FileSystemLoader(\"templates/\"))\n",
    "template = environment.get_template(\"message.txt\")\n",
    "\n",
    "for student in students:\n",
    "    filename = f\"message_{student['name'].lower()}.txt\"\n",
    "    content = template.render(\n",
    "        student,\n",
    "        max_score=max_score,\n",
    "        test_name=test_name\n",
    "    )\n",
    "    with open(filename, mode=\"w\", encoding=\"utf-8\") as message:\n",
    "        message.write(content)\n",
    "        print(f\"... wrote {filename}\")"
   ]
  },
  {
   "cell_type": "code",
   "execution_count": 9,
   "metadata": {},
   "outputs": [
    {
     "name": "stdout",
     "output_type": "stream",
     "text": [
      "... wrote message_sandrine.txt\n",
      "... wrote message_gergeley.txt\n",
      "... wrote message_frieda.txt\n",
      "... wrote message_fritz.txt\n",
      "... wrote message_sirius.txt\n"
     ]
    }
   ],
   "source": [
    "students = [\n",
    "    {\"name\": \"Sandrine\",  \"score\": 100},\n",
    "    {\"name\": \"Gergeley\", \"score\": 87},\n",
    "    {\"name\": \"Frieda\", \"score\": 92},\n",
    "    {\"name\": \"Fritz\", \"score\": 40},\n",
    "    {\"name\": \"Sirius\", \"score\": 75},\n",
    "]\n",
    "\n",
    "environment = Environment(loader=FileSystemLoader(\"templates/\"))\n",
    "template = environment.get_template(\"message2.txt\")\n",
    "\n",
    "for student in students:\n",
    "    filename = f\"message_{student['name'].lower()}.txt\"\n",
    "    content = template.render(\n",
    "        student,\n",
    "        max_score=max_score,\n",
    "        test_name=test_name\n",
    "    )\n",
    "    with open(filename, mode=\"w\", encoding=\"utf-8\") as message:\n",
    "        message.write(content)\n",
    "        print(f\"... wrote {filename}\")"
   ]
  },
  {
   "cell_type": "code",
   "execution_count": 10,
   "metadata": {},
   "outputs": [
    {
     "name": "stdout",
     "output_type": "stream",
     "text": [
      "... wrote students_results.html\n"
     ]
    }
   ],
   "source": [
    "results_filename = \"students_results.html\"\n",
    "results_template = environment.get_template(\"results.html\")\n",
    "context = {\n",
    "    \"students\": students,\n",
    "    \"test_name\": test_name,\n",
    "    \"max_score\": max_score,\n",
    "}\n",
    "with open(results_filename, mode=\"w\", encoding=\"utf-8\") as results:\n",
    "    results.write(results_template.render(context))\n",
    "    print(f\"... wrote {results_filename}\")"
   ]
  }
 ],
 "metadata": {
  "kernelspec": {
   "display_name": "Python 3",
   "language": "python",
   "name": "python3"
  },
  "language_info": {
   "codemirror_mode": {
    "name": "ipython",
    "version": 3
   },
   "file_extension": ".py",
   "mimetype": "text/x-python",
   "name": "python",
   "nbconvert_exporter": "python",
   "pygments_lexer": "ipython3",
   "version": "3.10.4"
  },
  "orig_nbformat": 4,
  "vscode": {
   "interpreter": {
    "hash": "5e48fcb79489ab703dd824c59a8c349527d233fd916d52da21c71d44650c89cb"
   }
  }
 },
 "nbformat": 4,
 "nbformat_minor": 2
}
