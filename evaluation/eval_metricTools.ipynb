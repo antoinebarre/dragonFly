{
 "cells": [
  {
   "attachments": {},
   "cell_type": "markdown",
   "metadata": {},
   "source": [
    "# TEST OF METRIC TOOLS"
   ]
  },
  {
   "cell_type": "code",
   "execution_count": null,
   "metadata": {},
   "outputs": [],
   "source": [
    "import os\n",
    "import radon.visitors\n",
    "import radon.metrics\n",
    "from radon.visitors import ComplexityVisitor\n",
    "\n",
    "path = os. getcwd()\n",
    "\n",
    "pythonFiles = [os.path.join(root, name)\n",
    "             for root, dirs, files in os.walk(path)\n",
    "             for name in files\n",
    "             if (name.endswith((\".py\")) and # only python files\n",
    "                 name !=\"__init__.py\" and # remove the module initialisation \n",
    "                 not(\"test\" in name.lower()) # remove test file\n",
    "                 )]\n",
    "\n",
    "print(pythonFiles)\n",
    "#test namedtuple\n",
    "from collections import namedtuple\n",
    "\n",
    "ComplexityMetrics = namedtuple(\"CodeMetrics\",[\"path\",\"name\",\"complexity\",\"complexityLetter\",\"is_method\",\"class_name\"])\n",
    "\n",
    "LineMetric = namedtuple(\"LineMetric\",[\"path\",\"nbLines\",\"nbLineSource\",\"nbBlankLine\",\"nbCommentLines\",\"nbMultiCommentLines\",\"maintenance_index\",\"maintenance_index_letter\"])\n",
    "\n",
    "metric_complexity = []\n",
    "metric_LOC        = []\n",
    "\n",
    "# analyse file\n",
    "for pythonFile in pythonFiles:\n",
    "    with open(pythonFile, 'r') as file:\n",
    "        data = file.read()\n",
    "\n",
    "    res = ComplexityVisitor.from_code(data)\n",
    "\n",
    "    #function\n",
    "    list_function = res.functions\n",
    "\n",
    "    for item in list_function :\n",
    "        metric_complexity.append(ComplexityMetrics(\n",
    "            path = pythonFile,\n",
    "            name = item.name,\n",
    "            complexity = item.complexity,\n",
    "            complexityLetter= radon.complexity.cc_rank(item.complexity),\n",
    "            is_method = False,\n",
    "            class_name = item.classname))\n",
    "    \n",
    "    # Classes\n",
    "    list_classes = res.classes\n",
    "    for classItem in list_classes:\n",
    "        #print(classItem)\n",
    "        for methodItem in classItem.methods:\n",
    "            metric_complexity.append(ComplexityMetrics(\n",
    "            path = pythonFile,\n",
    "            name = methodItem.name,\n",
    "            complexity = methodItem.complexity,\n",
    "            complexityLetter= radon.complexity.cc_rank(methodItem.complexity),\n",
    "            is_method = True,\n",
    "            class_name = methodItem.classname))\n",
    "\n",
    "    import radon.raw\n",
    "\n",
    "    loc_metric = radon.raw.analyze(data)\n",
    "    MI_metric = radon.metrics.mi_visit(data,multi=True)\n",
    "\n",
    "\n",
    "    metric_LOC.append(LineMetric(path=pythonFile,nbLines=loc_metric.loc,nbLineSource=loc_metric.sloc,nbBlankLine=loc_metric.blank,nbCommentLines=loc_metric.comments,nbMultiCommentLines=loc_metric.multi,maintenance_index=MI_metric,maintenance_index_letter=radon.metrics.mi_rank(MI_metric)))\n",
    "    \n",
    "print(metric_LOC)\n"
   ]
  }
 ],
 "metadata": {
  "kernelspec": {
   "display_name": "Python 3",
   "language": "python",
   "name": "python3"
  },
  "language_info": {
   "name": "python",
   "version": "3.10.4 (tags/v3.10.4:9d38120, Mar 23 2022, 23:13:41) [MSC v.1929 64 bit (AMD64)]"
  },
  "orig_nbformat": 4,
  "vscode": {
   "interpreter": {
    "hash": "5e48fcb79489ab703dd824c59a8c349527d233fd916d52da21c71d44650c89cb"
   }
  }
 },
 "nbformat": 4,
 "nbformat_minor": 2
}
