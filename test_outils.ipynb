{
 "cells": [
  {
   "cell_type": "code",
   "execution_count": 6,
   "metadata": {},
   "outputs": [
    {
     "data": {
      "text/html": [
       "<pre style=\"white-space:pre;overflow-x:auto;line-height:normal;font-family:Menlo,'DejaVu Sans Mono',consolas,'Courier New',monospace\"><span style=\"color: #00ff00; text-decoration-color: #00ff00\">================================= </span><span style=\"font-weight: bold\">CODE CONFORMANCE ANALYSIS</span><span style=\"color: #00ff00; text-decoration-color: #00ff00\"> =================================</span>\n",
       "</pre>\n"
      ],
      "text/plain": [
       "\u001b[92m================================= \u001b[0m\u001b[1mCODE CONFORMANCE ANALYSIS\u001b[0m\u001b[92m =================================\u001b[0m\n"
      ]
     },
     "metadata": {},
     "output_type": "display_data"
    },
    {
     "data": {
      "text/html": [
       "<pre style=\"white-space:pre;overflow-x:auto;line-height:normal;font-family:Menlo,'DejaVu Sans Mono',consolas,'Courier New',monospace\">Platform:\n",
       "</pre>\n"
      ],
      "text/plain": [
       "Platform:\n"
      ]
     },
     "metadata": {},
     "output_type": "display_data"
    },
    {
     "data": {
      "text/html": [
       "<pre style=\"white-space:pre;overflow-x:auto;line-height:normal;font-family:Menlo,'DejaVu Sans Mono',consolas,'Courier New',monospace\"><span style=\"font-weight: bold\">Root Folder :</span>  c:\\Z\\dragonFly\\dragonfly\n",
       "</pre>\n"
      ],
      "text/plain": [
       "\u001b[1mRoot Folder :\u001b[0m  c:\\Z\\dragonFly\\dragonfly\n"
      ]
     },
     "metadata": {},
     "output_type": "display_data"
    },
    {
     "data": {
      "text/html": [
       "<pre style=\"white-space:pre;overflow-x:auto;line-height:normal;font-family:Menlo,'DejaVu Sans Mono',consolas,'Courier New',monospace\"><span style=\"font-weight: bold\">Number of Elements :</span>  <span style=\"color: #008080; text-decoration-color: #008080; font-weight: bold\">5</span>\n",
       "</pre>\n"
      ],
      "text/plain": [
       "\u001b[1mNumber of Elements :\u001b[0m  \u001b[1;36m5\u001b[0m\n"
      ]
     },
     "metadata": {},
     "output_type": "display_data"
    },
    {
     "name": "stdout",
     "output_type": "stream",
     "text": [
      ">>> Analysis of constant.py...\n",
      ">>> Analysis of dev.py...\n",
      ">>> Analysis of geography.py...\n",
      ">>> Analysis of gravity.py...\n",
      ">>> Analysis of utils.py...\n"
     ]
    },
    {
     "ename": "AttributeError",
     "evalue": "'FolderAnalysis' object has no attribute 'toString'",
     "output_type": "error",
     "traceback": [
      "\u001b[1;31m---------------------------------------------------------------------------\u001b[0m",
      "\u001b[1;31mAttributeError\u001b[0m                            Traceback (most recent call last)",
      "\u001b[1;32m~\\AppData\\Local\\Temp\\ipykernel_44048\\2368149701.py\u001b[0m in \u001b[0;36m<cell line: 26>\u001b[1;34m()\u001b[0m\n\u001b[0;32m     24\u001b[0m \u001b[0mb\u001b[0m \u001b[1;33m=\u001b[0m \u001b[0mdragonfly\u001b[0m\u001b[1;33m.\u001b[0m\u001b[0mdev\u001b[0m\u001b[1;33m.\u001b[0m\u001b[0mFolderAnalysis\u001b[0m\u001b[1;33m(\u001b[0m\u001b[0mpath\u001b[0m\u001b[1;33m)\u001b[0m\u001b[1;33m\u001b[0m\u001b[1;33m\u001b[0m\u001b[0m\n\u001b[0;32m     25\u001b[0m \u001b[1;33m\u001b[0m\u001b[0m\n\u001b[1;32m---> 26\u001b[1;33m \u001b[0mprint\u001b[0m\u001b[1;33m(\u001b[0m\u001b[0mb\u001b[0m\u001b[1;33m.\u001b[0m\u001b[0mtoString\u001b[0m\u001b[1;33m(\u001b[0m\u001b[1;33m)\u001b[0m\u001b[1;33m)\u001b[0m\u001b[1;33m\u001b[0m\u001b[1;33m\u001b[0m\u001b[0m\n\u001b[0m\u001b[0;32m     27\u001b[0m \u001b[1;33m\u001b[0m\u001b[0m\n\u001b[0;32m     28\u001b[0m \u001b[1;33m\u001b[0m\u001b[0m\n",
      "\u001b[1;31mAttributeError\u001b[0m: 'FolderAnalysis' object has no attribute 'toString'"
     ]
    }
   ],
   "source": [
    "import dragonfly.dev\n",
    "\n",
    "a = dragonfly.dev.FileAnalysis(\"dragonfly\\dev.py\")\n",
    "path = \"dragonfly/\"\n",
    "\n",
    "# print(a)\n",
    "\n",
    "# # print (a.fileFolder)\n",
    "# # print(a.isValid())\n",
    "# # print(a.commentsPercentage)\n",
    "# # print(a.getInvalidItems())\n",
    "\n",
    "# # print(a.getNumberInvalidItems())\n",
    "# # print(a.getListInvalidItems())\n",
    "\n",
    "# print(dragonfly.dev.FileAnalysis.MAX_MAINTENACE_LETTER)\n",
    "\n",
    "# c = dragonfly.dev.FolderAnalysis(path)\n",
    "\n",
    "# print(c.isValid())\n",
    "\n",
    "#print(c)\n",
    "\n",
    "b = dragonfly.dev.FolderAnalysis(path)\n",
    "\n",
    "print(b.toString())\n",
    "\n",
    "\n",
    "\n",
    "\n",
    "\n",
    "\n",
    "\n",
    "\n",
    "\n",
    "\n",
    "\n",
    "\n"
   ]
  },
  {
   "cell_type": "code",
   "execution_count": 1,
   "metadata": {},
   "outputs": [
    {
     "name": "stderr",
     "output_type": "stream",
     "text": [
      "ERROR: usage: ipykernel_launcher.py [options] [file_or_dir] [file_or_dir] [...]\n",
      "ipykernel_launcher.py: error: unrecognized arguments: --ip=127.0.0.1 --stdin=9008 --control=9006 --hb=9005 --Session.signature_scheme=\"hmac-sha256\" --Session.key=b\"048950b3-0910-4cd1-8aa8-80c1dc1035da\" --shell=9007 --transport=\"tcp\" --iopub=9009 --f=c:\\Users\\antoine.barre\\AppData\\Roaming\\jupyter\\runtime\\kernel-v2-37948d32PrknaH1Aw.json\n",
      "  inifile: c:\\Z\\dragonFly\\pytest.ini\n",
      "  rootdir: c:\\Z\\dragonFly\n",
      "\n"
     ]
    }
   ],
   "source": [
    "# content of myinvoke.py\n",
    "import sys\n",
    "\n",
    "import pytest\n",
    "\n",
    "retcode = pytest.main()\n",
    "\n",
    "\n"
   ]
  },
  {
   "cell_type": "code",
   "execution_count": 18,
   "metadata": {},
   "outputs": [
    {
     "data": {
      "text/html": [
       "<pre style=\"white-space:pre;overflow-x:auto;line-height:normal;font-family:Menlo,'DejaVu Sans Mono',consolas,'Courier New',monospace\"><span style=\"font-style: italic\">                          Star Wars Movies                           </span>\n",
       "┏━━━━━━━━━━━━━━┳━━━━━━━━━━━━━━━━━━━━━━━━━━━━━━━━━━━┳━━━━━━━━━━━━━━━━┓\n",
       "┃<span style=\"font-weight: bold\">     Released </span>┃<span style=\"font-weight: bold\"> Title                             </span>┃<span style=\"font-weight: bold\">     Box Office </span>┃\n",
       "┡━━━━━━━━━━━━━━╇━━━━━━━━━━━━━━━━━━━━━━━━━━━━━━━━━━━╇━━━━━━━━━━━━━━━━┩\n",
       "│<span style=\"color: #008080; text-decoration-color: #008080\"> Dec 20, 2019 </span>│<span style=\"color: #800080; text-decoration-color: #800080\"> Star Wars: The Rise of Skywalker  </span>│<span style=\"color: #008000; text-decoration-color: #008000\">   $952,110,690 </span>│\n",
       "│<span style=\"color: #008080; text-decoration-color: #008080\"> May 25, 2018 </span>│<span style=\"color: #800080; text-decoration-color: #800080\"> Solo: A Star Wars Story           </span>│<span style=\"color: #008000; text-decoration-color: #008000\">   $393,151,347 </span>│\n",
       "│<span style=\"color: #008080; text-decoration-color: #008080\"> Dec 15, 2017 </span>│<span style=\"color: #800080; text-decoration-color: #800080\"> Star Wars Ep. V111: The Last Jedi </span>│<span style=\"color: #008000; text-decoration-color: #008000\"> $1,332,539,889 </span>│\n",
       "│<span style=\"color: #008080; text-decoration-color: #008080\"> Dec 16, 2016 </span>│<span style=\"color: #800080; text-decoration-color: #800080\"> Rogue One: A Star Wars Story      </span>│<span style=\"color: #008000; text-decoration-color: #008000\"> $1,332,439,889 </span>│\n",
       "└──────────────┴───────────────────────────────────┴────────────────┘\n",
       "</pre>\n"
      ],
      "text/plain": [
       "\u001b[3m                          Star Wars Movies                           \u001b[0m\n",
       "┏━━━━━━━━━━━━━━┳━━━━━━━━━━━━━━━━━━━━━━━━━━━━━━━━━━━┳━━━━━━━━━━━━━━━━┓\n",
       "┃\u001b[1m \u001b[0m\u001b[1m    Released\u001b[0m\u001b[1m \u001b[0m┃\u001b[1m \u001b[0m\u001b[1mTitle                            \u001b[0m\u001b[1m \u001b[0m┃\u001b[1m \u001b[0m\u001b[1m    Box Office\u001b[0m\u001b[1m \u001b[0m┃\n",
       "┡━━━━━━━━━━━━━━╇━━━━━━━━━━━━━━━━━━━━━━━━━━━━━━━━━━━╇━━━━━━━━━━━━━━━━┩\n",
       "│\u001b[36m \u001b[0m\u001b[36mDec 20, 2019\u001b[0m\u001b[36m \u001b[0m│\u001b[35m \u001b[0m\u001b[35mStar Wars: The Rise of Skywalker \u001b[0m\u001b[35m \u001b[0m│\u001b[32m \u001b[0m\u001b[32m  $952,110,690\u001b[0m\u001b[32m \u001b[0m│\n",
       "│\u001b[36m \u001b[0m\u001b[36mMay 25, 2018\u001b[0m\u001b[36m \u001b[0m│\u001b[35m \u001b[0m\u001b[35mSolo: A Star Wars Story          \u001b[0m\u001b[35m \u001b[0m│\u001b[32m \u001b[0m\u001b[32m  $393,151,347\u001b[0m\u001b[32m \u001b[0m│\n",
       "│\u001b[36m \u001b[0m\u001b[36mDec 15, 2017\u001b[0m\u001b[36m \u001b[0m│\u001b[35m \u001b[0m\u001b[35mStar Wars Ep. V111: The Last Jedi\u001b[0m\u001b[35m \u001b[0m│\u001b[32m \u001b[0m\u001b[32m$1,332,539,889\u001b[0m\u001b[32m \u001b[0m│\n",
       "│\u001b[36m \u001b[0m\u001b[36mDec 16, 2016\u001b[0m\u001b[36m \u001b[0m│\u001b[35m \u001b[0m\u001b[35mRogue One: A Star Wars Story     \u001b[0m\u001b[35m \u001b[0m│\u001b[32m \u001b[0m\u001b[32m$1,332,439,889\u001b[0m\u001b[32m \u001b[0m│\n",
       "└──────────────┴───────────────────────────────────┴────────────────┘\n"
      ]
     },
     "metadata": {},
     "output_type": "display_data"
    },
    {
     "data": {
      "text/html": [
       "<pre style=\"white-space:pre;overflow-x:auto;line-height:normal;font-family:Menlo,'DejaVu Sans Mono',consolas,'Courier New',monospace\"><span style=\"color: #008080; text-decoration-color: #008080\">─────────────────────────────────────────── </span><span style=\"color: #008080; text-decoration-color: #008080; font-weight: bold\">toto</span><span style=\"color: #008080; text-decoration-color: #008080\"> ────────────────────────────────────────────</span>\n",
       "</pre>\n"
      ],
      "text/plain": [
       "\u001b[36m─────────────────────────────────────────── \u001b[0m\u001b[1;36mtoto\u001b[0m\u001b[36m ────────────────────────────────────────────\u001b[0m\n"
      ]
     },
     "metadata": {},
     "output_type": "display_data"
    }
   ],
   "source": [
    "from rich.console import Console\n",
    "from rich.table import Table\n",
    "from rich.style import Style\n",
    "from rich.color import Color\n",
    "\n",
    "table = Table(title=\"Star Wars Movies\")\n",
    "\n",
    "table.add_column(\"Released\", justify=\"right\", style=\"cyan\", no_wrap=True)\n",
    "table.add_column(\"Title\", style=\"magenta\")\n",
    "table.add_column(\"Box Office\", justify=\"right\", style=\"green\")\n",
    "\n",
    "table.add_row(\"Dec 20, 2019\", \"Star Wars: The Rise of Skywalker\", \"$952,110,690\")\n",
    "table.add_row(\"May 25, 2018\", \"Solo: A Star Wars Story\", \"$393,151,347\")\n",
    "table.add_row(\"Dec 15, 2017\", \"Star Wars Ep. V111: The Last Jedi\", \"$1,332,539,889\")\n",
    "table.add_row(\"Dec 16, 2016\", \"Rogue One: A Star Wars Story\", \"$1,332,439,889\")\n",
    "\n",
    "console = Console()\n",
    "console.print(table)\n",
    "\n",
    "console.rule(\"[bold cyan]toto\",style=Style(color=\"cyan\"))\n"
   ]
  },
  {
   "cell_type": "code",
   "execution_count": 21,
   "metadata": {},
   "outputs": [
    {
     "name": "stdout",
     "output_type": "stream",
     "text": [
      "1\n"
     ]
    }
   ],
   "source": [
    "from abc import ABCMeta, abstractmethod\n",
    "\n",
    "\n",
    "class A(metaclass=ABCMeta):\n",
    "    def __init__(self):\n",
    "        # ...\n",
    "        pass\n",
    "\n",
    "    @property\n",
    "    @abstractmethod\n",
    "    def a(self):\n",
    "        pass\n",
    "\n",
    "    @abstractmethod\n",
    "    def b(self):\n",
    "        pass\n",
    "\n",
    "\n",
    "class B(A):\n",
    "    a = 1\n",
    "\n",
    "    def b(self):\n",
    "        pass\n",
    "a=B()\n",
    "print(a.a)"
   ]
  },
  {
   "cell_type": "code",
   "execution_count": 11,
   "metadata": {},
   "outputs": [
    {
     "name": "stdout",
     "output_type": "stream",
     "text": [
      "getter method called\n",
      "20\n",
      "setter method called\n",
      "getter method called\n",
      "10\n",
      "getter method called\n",
      "10\n"
     ]
    }
   ],
   "source": [
    "# Python program showing a\n",
    "# use of property() function\n",
    "  \n",
    "class Geeks:\n",
    "     _toto =3\n",
    "     def __init__(self,age):\n",
    "          self._age = age\n",
    "       \n",
    "     # function to get value of _age\n",
    "     def get_age(self):\n",
    "         print(\"getter method called\")\n",
    "         return self._age\n",
    "       \n",
    "     # function to set value of _age\n",
    "     def set_age(self, a):\n",
    "         print(\"setter method called\")\n",
    "\n",
    "         self._age = a\n",
    "  \n",
    "     # function to delete _age attribute\n",
    "     def del_age(self):\n",
    "         del self._age\n",
    "     \n",
    "     age = property(get_age, set_age, del_age)\n",
    "     \n",
    "\n",
    "     def get_toto(self):\n",
    "         print(\"getter method called\")\n",
    "         return self._age\n",
    "\n",
    "     def set_toto(self,val):\n",
    "        self._toto = val\n",
    "        print(\"toto modification\")\n",
    "\n",
    "     def del_toto(self):\n",
    "         del self._toto\n",
    "\n",
    "     toto = property(get_toto, set_toto, del_toto)\n",
    "  \n",
    "mark = Geeks(20)\n",
    "\n",
    "print(mark.age)\n",
    "  \n",
    "mark.age = 10\n",
    "  \n",
    "print(mark.age)\n",
    "\n",
    "print(mark.toto)\n"
   ]
  },
  {
   "cell_type": "code",
   "execution_count": 5,
   "metadata": {},
   "outputs": [
    {
     "name": "stdout",
     "output_type": "stream",
     "text": [
      "titi\n"
     ]
    }
   ],
   "source": [
    "class toto():\n",
    "    def __init__(self,a,b) -> None:\n",
    "        self.a = a\n",
    "        self.b = b\n",
    "        pass\n",
    "    def __str__(self) -> str:\n",
    "        return \"titi\" \n",
    "\n",
    "    def __repr__(self) -> str:\n",
    "        return \"my console output\"\n",
    "\n",
    "\n",
    "a = toto(3,4) \n",
    "\n",
    "print(a)\n"
   ]
  },
  {
   "cell_type": "code",
   "execution_count": 2,
   "metadata": {},
   "outputs": [
    {
     "name": "stdout",
     "output_type": "stream",
     "text": [
      "+---------+---------+---------+---------+\n",
      "| Field 1 | Field 2 | Field 3 | Field 4 |\n",
      "+---------+---------+---------+---------+\n",
      "|    1    |   Bob   |    6    |    11   |\n",
      "|    2    |  Freddy |    4    |    10   |\n",
      "|    3    |   John  |    7    |    13   |\n",
      "+---------+---------+---------+---------+\n"
     ]
    }
   ],
   "source": [
    "from prettytable import PrettyTable\n",
    "my_table = PrettyTable()\n",
    "my_table.add_row([1, \"Bob\", 6, 11])\n",
    "my_table.add_row([2, \"Freddy\", 4, 10])\n",
    "my_table.add_row([3, \"John\", 7, 13])\n",
    "print(my_table)"
   ]
  },
  {
   "cell_type": "code",
   "execution_count": 25,
   "metadata": {},
   "outputs": [
    {
     "ename": "AttributeError",
     "evalue": "'NoneType' object has no attribute 'append'",
     "output_type": "error",
     "traceback": [
      "\u001b[1;31m---------------------------------------------------------------------------\u001b[0m",
      "\u001b[1;31mAttributeError\u001b[0m                            Traceback (most recent call last)",
      "\u001b[1;32m~\\AppData\\Local\\Temp\\ipykernel_15108\\3285146575.py\u001b[0m in \u001b[0;36m<cell line: 6>\u001b[1;34m()\u001b[0m\n\u001b[0;32m      8\u001b[0m         \u001b[0mfileExtension\u001b[0m \u001b[1;33m=\u001b[0m \u001b[0mpathlib\u001b[0m\u001b[1;33m.\u001b[0m\u001b[0mPath\u001b[0m\u001b[1;33m(\u001b[0m\u001b[0mname\u001b[0m\u001b[1;33m)\u001b[0m\u001b[1;33m.\u001b[0m\u001b[0msuffix\u001b[0m\u001b[1;33m\u001b[0m\u001b[1;33m\u001b[0m\u001b[0m\n\u001b[0;32m      9\u001b[0m         \u001b[1;32mif\u001b[0m \u001b[0mfileExtension\u001b[0m \u001b[1;33m==\u001b[0m\u001b[1;34m\".py\"\u001b[0m \u001b[1;32mand\u001b[0m \u001b[0mname\u001b[0m \u001b[1;33m!=\u001b[0m \u001b[1;34m\"__init__.py\"\u001b[0m\u001b[1;33m:\u001b[0m\u001b[1;33m\u001b[0m\u001b[1;33m\u001b[0m\u001b[0m\n\u001b[1;32m---> 10\u001b[1;33m             \u001b[0mlistFiles2test\u001b[0m\u001b[1;33m=\u001b[0m \u001b[0mlistFiles2test\u001b[0m\u001b[1;33m.\u001b[0m\u001b[0mappend\u001b[0m\u001b[1;33m(\u001b[0m\u001b[0mos\u001b[0m\u001b[1;33m.\u001b[0m\u001b[0mpath\u001b[0m\u001b[1;33m.\u001b[0m\u001b[0mjoin\u001b[0m\u001b[1;33m(\u001b[0m\u001b[0mpath\u001b[0m\u001b[1;33m,\u001b[0m \u001b[0mname\u001b[0m\u001b[1;33m)\u001b[0m\u001b[1;33m)\u001b[0m\u001b[1;33m\u001b[0m\u001b[1;33m\u001b[0m\u001b[0m\n\u001b[0m\u001b[0;32m     11\u001b[0m \u001b[1;33m\u001b[0m\u001b[0m\n\u001b[0;32m     12\u001b[0m \u001b[0mprint\u001b[0m\u001b[1;33m(\u001b[0m\u001b[0mlistFiles2test\u001b[0m\u001b[1;33m)\u001b[0m\u001b[1;33m\u001b[0m\u001b[1;33m\u001b[0m\u001b[0m\n",
      "\u001b[1;31mAttributeError\u001b[0m: 'NoneType' object has no attribute 'append'"
     ]
    }
   ],
   "source": [
    "import os\n",
    "import pathlib\n",
    "\n",
    "listFiles2test = [\"\"]\n",
    "\n",
    "for path, subdirs, files in os.walk('dragonfly'):\n",
    "    for name in files:\n",
    "        fileExtension = pathlib.Path(name).suffix\n",
    "        if fileExtension ==\".py\" and name != \"__init__.py\":\n",
    "            listFiles2test= listFiles2test.append(os.path.join(path, name))\n",
    "\n",
    "print(listFiles2test)\n",
    "        "
   ]
  },
  {
   "cell_type": "code",
   "execution_count": 111,
   "metadata": {},
   "outputs": [
    {
     "ename": "AttributeError",
     "evalue": "This object is frozen!",
     "output_type": "error",
     "traceback": [
      "\u001b[1;31m---------------------------------------------------------------------------\u001b[0m",
      "\u001b[1;31mAttributeError\u001b[0m                            Traceback (most recent call last)",
      "\u001b[1;32m~\\AppData\\Local\\Temp\\ipykernel_15108\\3391403361.py\u001b[0m in \u001b[0;36m<cell line: 14>\u001b[1;34m()\u001b[0m\n\u001b[0;32m     12\u001b[0m \u001b[0ma\u001b[0m \u001b[1;33m=\u001b[0m \u001b[0mtestClass\u001b[0m\u001b[1;33m(\u001b[0m\u001b[1;36m3\u001b[0m\u001b[1;33m,\u001b[0m\u001b[1;36m4\u001b[0m\u001b[1;33m)\u001b[0m\u001b[1;33m\u001b[0m\u001b[1;33m\u001b[0m\u001b[0m\n\u001b[0;32m     13\u001b[0m \u001b[1;33m\u001b[0m\u001b[0m\n\u001b[1;32m---> 14\u001b[1;33m \u001b[0ma\u001b[0m\u001b[1;33m.\u001b[0m\u001b[0mx\u001b[0m \u001b[1;33m=\u001b[0m \u001b[1;36m3\u001b[0m\u001b[1;33m\u001b[0m\u001b[1;33m\u001b[0m\u001b[0m\n\u001b[0m\u001b[0;32m     15\u001b[0m \u001b[1;33m\u001b[0m\u001b[0m\n\u001b[0;32m     16\u001b[0m \u001b[1;33m\u001b[0m\u001b[0m\n",
      "\u001b[1;32mc:\\Z\\dragonFly\\dragonfly\\utils.py\u001b[0m in \u001b[0;36m__setattr__\u001b[1;34m(self, *args, **kwargs)\u001b[0m\n\u001b[0;32m    141\u001b[0m     \u001b[1;32mdef\u001b[0m \u001b[0m__setattr__\u001b[0m\u001b[1;33m(\u001b[0m\u001b[0mself\u001b[0m\u001b[1;33m,\u001b[0m \u001b[1;33m*\u001b[0m\u001b[0margs\u001b[0m\u001b[1;33m,\u001b[0m \u001b[1;33m**\u001b[0m\u001b[0mkwargs\u001b[0m\u001b[1;33m)\u001b[0m\u001b[1;33m:\u001b[0m\u001b[1;33m\u001b[0m\u001b[1;33m\u001b[0m\u001b[0m\n\u001b[0;32m    142\u001b[0m         \u001b[1;32mif\u001b[0m \u001b[0mself\u001b[0m\u001b[1;33m.\u001b[0m\u001b[0m_frozen\u001b[0m\u001b[1;33m:\u001b[0m\u001b[1;33m\u001b[0m\u001b[1;33m\u001b[0m\u001b[0m\n\u001b[1;32m--> 143\u001b[1;33m             \u001b[1;32mraise\u001b[0m \u001b[0mAttributeError\u001b[0m\u001b[1;33m(\u001b[0m\u001b[1;34m'This object is frozen!'\u001b[0m\u001b[1;33m)\u001b[0m\u001b[1;33m\u001b[0m\u001b[1;33m\u001b[0m\u001b[0m\n\u001b[0m\u001b[0;32m    144\u001b[0m         \u001b[0mobject\u001b[0m\u001b[1;33m.\u001b[0m\u001b[0m__setattr__\u001b[0m\u001b[1;33m(\u001b[0m\u001b[0mself\u001b[0m\u001b[1;33m,\u001b[0m \u001b[1;33m*\u001b[0m\u001b[0margs\u001b[0m\u001b[1;33m,\u001b[0m \u001b[1;33m**\u001b[0m\u001b[0mkwargs\u001b[0m\u001b[1;33m)\u001b[0m\u001b[1;33m\u001b[0m\u001b[1;33m\u001b[0m\u001b[0m\n",
      "\u001b[1;31mAttributeError\u001b[0m: This object is frozen!"
     ]
    }
   ],
   "source": [
    "import dragonfly.utils\n",
    "\n",
    "class testClass(dragonfly.utils.immutableClass):\n",
    "    def __init__(self,x,y):\n",
    "        self.x = x\n",
    "        self.y = y\n",
    "\n",
    "        # initialize parent class \"SlotsFreezer\"\n",
    "        super().__init__()\n",
    "\n",
    "\n",
    "a = testClass(3,4)\n",
    "\n",
    "a.x = 3\n",
    "\n",
    "\n",
    "\n",
    "\n",
    "\n"
   ]
  },
  {
   "cell_type": "code",
   "execution_count": 2,
   "metadata": {},
   "outputs": [
    {
     "name": "stdout",
     "output_type": "stream",
     "text": [
      "[['c:\\\\Z\\\\dragonFly\\\\dragonfly\\\\constant.py', 12.1], ['c:\\\\Z\\\\dragonFly\\\\dragonfly\\\\dev.py', 34.9], ['c:\\\\Z\\\\dragonFly\\\\dragonfly\\\\geography.py', 47.1], ['c:\\\\Z\\\\dragonFly\\\\dragonfly\\\\gravity.py', 59.5], ['c:\\\\Z\\\\dragonFly\\\\dragonfly\\\\utils.py', 42.9]]\n"
     ]
    }
   ],
   "source": [
    "from dragonfly.dev import FileAnalysis, FolderAnalysis\n",
    "\n",
    "path = 'c:\\\\Z\\\\dragonFly\\\\dragonfly\\\\constant.py'\n",
    "\n",
    "a = FileAnalysis(path)\n",
    "\n",
    "tt = a.complexity\n",
    "\n",
    "#print(tt)\n",
    "\n",
    "path = os. getcwd()\n",
    "\n",
    "b = FolderAnalysis(path)\n",
    "\n",
    "print(b.commentPercentage)\n"
   ]
  },
  {
   "cell_type": "code",
   "execution_count": 1,
   "metadata": {},
   "outputs": [
    {
     "name": "stdout",
     "output_type": "stream",
     "text": [
      "[[-6.04109601e-16]\n",
      " [-0.00000000e+00]\n",
      " [-9.83206684e+00]]\n",
      "9.814197355899799\n",
      "9.83206684120325\n"
     ]
    }
   ],
   "source": [
    "from dragonfly.gravity import Gravity\n",
    "from dragonfly.geography import Position\n",
    "from dragonfly.constant import EarthModel\n",
    "import numpy as np\n",
    "\n",
    "pos = Position.fromLLA(np.deg2rad(90),0,0)\n",
    "\n",
    "g = Gravity(pos.x,pos.y,pos.z).toNumpy()\n",
    "\n",
    "print(g)\n",
    "\n",
    "ee = EarthModel()\n",
    "\n",
    "print((ee.mu/ee.a**2)*(1+3/2*ee.j2))\n",
    "\n",
    "\n",
    "print((ee.mu/ee.b**2)*(1+3/2*ee.j2*(ee.a/ee.b)**2*-2))\n",
    "\n"
   ]
  },
  {
   "cell_type": "code",
   "execution_count": 3,
   "metadata": {},
   "outputs": [
    {
     "name": "stdout",
     "output_type": "stream",
     "text": [
      "-2430601.8276721514 -4702442.703100768 3546587.3582014046\n",
      "[[ 0.25676467  0.4967581   0.82903757]\n",
      " [ 0.88834836 -0.45917011  0.        ]\n",
      " [ 0.38066927  0.73647416 -0.55919291]]\n",
      "0.25676467171487716\n",
      "0.8883483593780858\n",
      "[ 0. -1.  0.]\n"
     ]
    }
   ],
   "source": [
    "from dragonfly.geography import Position, DCM_ECEF2NED\n",
    "from dragonfly.utils import rotz\n",
    "import numpy as np\n",
    "\n",
    "lat = np.deg2rad(( 34. +  0./60 + 0.00174/3600)) # North\n",
    "lon = np.deg2rad(-(117. + 20./60 + 0.84965/3600)) # West\n",
    "alt = 251.702 # [meters]\n",
    "\n",
    "aa= Position.fromLLA(lat,lon,alt)\n",
    "print(aa.x,aa.y,aa.z)\n",
    "\n",
    "print(DCM_ECEF2NED(lat,lon))\n",
    "\n",
    "print(-np.cos(lon)*np.sin(lat))\n",
    "print(-np.sin(lon))\n",
    "\n",
    "print(rotz(np.pi/2)@np.array([1,0,0]))\n"
   ]
  },
  {
   "cell_type": "code",
   "execution_count": 4,
   "metadata": {},
   "outputs": [
    {
     "name": "stdout",
     "output_type": "stream",
     "text": [
      "0.0\n"
     ]
    }
   ],
   "source": [
    "print(float(0))"
   ]
  },
  {
   "cell_type": "code",
   "execution_count": 4,
   "metadata": {},
   "outputs": [
    {
     "name": "stdout",
     "output_type": "stream",
     "text": [
      "ECEF Coordinates:\n",
      "x : 6378137.0\n",
      "y : 0.0\n",
      "z : 0.0\n"
     ]
    },
    {
     "data": {
      "text/plain": [
       "'ECEF Coordinates:\\nx : 0.0\\ny : 0.0\\nz : 0.0'"
      ]
     },
     "execution_count": 4,
     "metadata": {},
     "output_type": "execute_result"
    }
   ],
   "source": [
    "from dragonfly.geography import Position\n",
    "import numpy as np\n",
    "\n",
    "pos = Position.fromLLA(0,0,0)\n",
    "\n",
    "lat,lon, alt = pos.toLLA()\n",
    "\n",
    "print(pos)\n",
    "\n",
    "str(Position(0,0,0))\n",
    "\n"
   ]
  },
  {
   "cell_type": "code",
   "execution_count": 6,
   "metadata": {},
   "outputs": [
    {
     "name": "stdout",
     "output_type": "stream",
     "text": [
      "2\n"
     ]
    }
   ],
   "source": [
    "class toto:\n",
    "    def __init__(self,x=0,y=2):\n",
    "        self.x=x\n",
    "        self.y=y\n",
    "\n",
    "a= [[toto(),toto()],[toto(),toto()]]\n",
    "\n",
    "print(len(a))"
   ]
  },
  {
   "cell_type": "code",
   "execution_count": 1,
   "metadata": {},
   "outputs": [
    {
     "ename": "TypeError",
     "evalue": "'float' object cannot be interpreted as an integer",
     "output_type": "error",
     "traceback": [
      "\u001b[1;31m---------------------------------------------------------------------------\u001b[0m",
      "\u001b[1;31mTypeError\u001b[0m                                 Traceback (most recent call last)",
      "\u001b[1;32m~\\AppData\\Local\\Temp\\ipykernel_17980\\411011423.py\u001b[0m in \u001b[0;36m<cell line: 1>\u001b[1;34m()\u001b[0m\n\u001b[1;32m----> 1\u001b[1;33m \u001b[0mprint\u001b[0m\u001b[1;33m(\u001b[0m\u001b[0mrange\u001b[0m\u001b[1;33m(\u001b[0m\u001b[1;36m3.4\u001b[0m\u001b[1;33m)\u001b[0m\u001b[1;33m)\u001b[0m\u001b[1;33m\u001b[0m\u001b[1;33m\u001b[0m\u001b[0m\n\u001b[0m",
      "\u001b[1;31mTypeError\u001b[0m: 'float' object cannot be interpreted as an integer"
     ]
    }
   ],
   "source": [
    "print(range(3.4))"
   ]
  },
  {
   "cell_type": "code",
   "execution_count": 2,
   "metadata": {},
   "outputs": [
    {
     "name": "stdout",
     "output_type": "stream",
     "text": [
      "ZeroDivisionError Occurred and Handled\n"
     ]
    }
   ],
   "source": [
    "# Program to handle multiple errors with one\n",
    "# except statement\n",
    "# Python 3\n",
    "\n",
    "def fun(a):\n",
    "\tif a < 4:\n",
    "\n",
    "\t\t# throws ZeroDivisionError for a = 3\n",
    "\t\tb = a/(a-3)\n",
    "\n",
    "\t# throws NameError if a >= 4\n",
    "\tprint(\"Value of b = \", b)\n",
    "\t\n",
    "try:\n",
    "\tfun(3)\n",
    "\tfun(5)\n",
    "\n",
    "# note that braces () are necessary here for\n",
    "# multiple exceptions\n",
    "except ZeroDivisionError:\n",
    "\tprint(\"ZeroDivisionError Occurred and Handled\")\n",
    "except NameError:\n",
    "\tprint(\"NameError Occurred and Handled\")\n"
   ]
  },
  {
   "cell_type": "code",
   "execution_count": 13,
   "metadata": {},
   "outputs": [
    {
     "name": "stdout",
     "output_type": "stream",
     "text": [
      "True\n"
     ]
    }
   ],
   "source": [
    "list1 = [1, 2, 3, 4, 5]\n",
    "list2 = [1, 2, 3, 4, 5]\n",
    "\n",
    "print(list1==list2)"
   ]
  },
  {
   "cell_type": "code",
   "execution_count": 1,
   "metadata": {},
   "outputs": [
    {
     "name": "stdout",
     "output_type": "stream",
     "text": [
      "WGS84\n",
      "6378137.0\n",
      "6378137.0\n",
      "0.0033528106647474805\n",
      "6356752.314245179\n"
     ]
    }
   ],
   "source": [
    "from dragonfly.constant import EarthModel\n",
    "\n",
    "aa = EarthModel(\"wgs84\")\n",
    "\n",
    "print(aa.model)\n",
    "print(aa.a)\n",
    "\n",
    "aa.model=\"wgs84\"\n",
    "print(aa.a)\n",
    "\n",
    "print(aa.f)\n",
    "\n",
    "print(aa.b)\n",
    "\n"
   ]
  },
  {
   "cell_type": "code",
   "execution_count": 10,
   "metadata": {},
   "outputs": [
    {
     "ename": "TypeError",
     "evalue": "unsupported operand type(s) for -: 'list' and 'list'",
     "output_type": "error",
     "traceback": [
      "\u001b[1;31m---------------------------------------------------------------------------\u001b[0m",
      "\u001b[1;31mTypeError\u001b[0m                                 Traceback (most recent call last)",
      "\u001b[1;32m~\\AppData\\Local\\Temp\\ipykernel_33200\\3892428894.py\u001b[0m in \u001b[0;36m<cell line: 9>\u001b[1;34m()\u001b[0m\n\u001b[0;32m      7\u001b[0m \u001b[0ma\u001b[0m\u001b[1;33m=\u001b[0m \u001b[0mLLA4ECEF\u001b[0m\u001b[1;33m[\u001b[0m\u001b[1;36m0\u001b[0m\u001b[1;33m]\u001b[0m\u001b[1;33m[\u001b[0m\u001b[1;34m\"ECEF\"\u001b[0m\u001b[1;33m]\u001b[0m\u001b[1;33m\u001b[0m\u001b[1;33m\u001b[0m\u001b[0m\n\u001b[0;32m      8\u001b[0m \u001b[1;33m\u001b[0m\u001b[0m\n\u001b[1;32m----> 9\u001b[1;33m \u001b[1;33m[\u001b[0m\u001b[1;36m1\u001b[0m\u001b[1;33m,\u001b[0m\u001b[1;36m2\u001b[0m\u001b[1;33m,\u001b[0m\u001b[1;36m3\u001b[0m\u001b[1;33m]\u001b[0m\u001b[1;33m-\u001b[0m\u001b[1;33m[\u001b[0m\u001b[1;36m1\u001b[0m\u001b[1;33m,\u001b[0m\u001b[1;36m2\u001b[0m\u001b[1;33m,\u001b[0m\u001b[1;36m3\u001b[0m\u001b[1;33m]\u001b[0m\u001b[1;33m\u001b[0m\u001b[1;33m\u001b[0m\u001b[0m\n\u001b[0m",
      "\u001b[1;31mTypeError\u001b[0m: unsupported operand type(s) for -: 'list' and 'list'"
     ]
    }
   ],
   "source": [
    "LLA4ECEF = [\n",
    "    {\"ECEF\": [ 5117118.21, -1087677.05, 3638574.7 ],\n",
    "    \"LLA\"  : [35,-12,1234]}, #lat lon alt\n",
    "    {\"ECEF\": [ 1193872.96, 1584322.93, -6064737.91 ],\n",
    "    \"LLA\"  : [-72,53,22135]}]\n",
    "\n",
    "a= LLA4ECEF[0][\"ECEF\"]\n",
    "\n",
    "[1,2,3]-[1,2,3]\n"
   ]
  }
 ],
 "metadata": {
  "kernelspec": {
   "display_name": "Python 3",
   "language": "python",
   "name": "python3"
  },
  "language_info": {
   "codemirror_mode": {
    "name": "ipython",
    "version": 3
   },
   "file_extension": ".py",
   "mimetype": "text/x-python",
   "name": "python",
   "nbconvert_exporter": "python",
   "pygments_lexer": "ipython3",
   "version": "3.10.2"
  },
  "orig_nbformat": 4,
  "vscode": {
   "interpreter": {
    "hash": "26de051ba29f2982a8de78e945f0abaf191376122a1563185a90213a26c5da77"
   }
  }
 },
 "nbformat": 4,
 "nbformat_minor": 2
}
