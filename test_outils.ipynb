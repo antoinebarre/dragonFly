{
 "cells": [
  {
   "cell_type": "code",
   "execution_count": 1,
   "metadata": {},
   "outputs": [
    {
     "name": "stdout",
     "output_type": "stream",
     "text": [
      ">>> Analysis of constant.py...\n",
      ">>> Analysis of dev.py...\n",
      ">>> Analysis of geography.py...\n",
      ">>> Analysis of gravity.py...\n",
      ">>> Analysis of utils.py...\n",
      "#####################################################\n",
      "             CODE METRICS ANALYSIS\n",
      "#####################################################\n",
      "\n",
      "FOLDER DESCRIPTION :\n",
      "\t- folder:            d:\\Z\\dragonFly\\dragonfly\n",
      "\n",
      "STATUS :\n",
      "+--------------+-------------+------------+--------------+\n",
      "|  file Name   | maintenance | complexity | commentRatio |\n",
      "+--------------+-------------+------------+--------------+\n",
      "| constant.py  |     True    |    True    |    False     |\n",
      "|    dev.py    |     True    |    True    |     True     |\n",
      "| geography.py |     True    |   False    |     True     |\n",
      "|  gravity.py  |     True    |    True    |     True     |\n",
      "|   utils.py   |     True    |    True    |     True     |\n",
      "+--------------+-------------+------------+--------------+\n",
      "\n",
      "------------------------------------------------------\n",
      "              DETAILLED ANALYSIS\n",
      "------------------------------------------------------\n",
      "\n",
      ">>> CONSTANT.PY\n",
      "FILE DESCRIPTION :\n",
      "\t- File:              constant.py\n",
      "\t- Path:              d:\\Z\\dragonFly\\dragonfly\n",
      "\t- Last Modifcation:  2023-01-28 14:06:19.841932\n",
      "\t- CheckSum MD5:      179d5571632bc6a6b5447e610ebb639c\n",
      "\t- SHA256:            b24d0ea4d37bdea7ca79fb7994cd375f11858c76c0ba7cf5ae19d4cbae6955a5\n",
      "\n",
      "FILE VALIDATION CRITERIAS:\n",
      "\t- Max Complexity:       B\n",
      "\t- Max Maintenance:      A\n",
      "\t- Min Comment Ration:   30 %\n",
      "\n",
      "+--------------+--------+\n",
      "|   Criteria   | Status |\n",
      "+--------------+--------+\n",
      "| maintenance  |  True  |\n",
      "|  complexity  |  True  |\n",
      "| commentRatio | False  |\n",
      "+--------------+--------+\n",
      "\n",
      "FILE METRICS :\n",
      "\t- Maintenability:    A (64.5)\n",
      "\t- Coment Percentage: 12.1 %\n",
      "\t- Complexity:\n",
      "\n",
      "+-----------+------------+-------------------+------+\n",
      "| Item Name |   Class    | Complexity Letter | Line |\n",
      "+-----------+------------+-------------------+------+\n",
      "|  __init__ | EarthModel |       A (2)       |  26  |\n",
      "|   model   | EarthModel |       A (1)       |  35  |\n",
      "|   model   | EarthModel |       A (3)       |  39  |\n",
      "|     a     | EarthModel |       A (3)       |  56  |\n",
      "|     f     | EarthModel |       A (3)       |  64  |\n",
      "|     b     | EarthModel |       A (1)       |  71  |\n",
      "|     e     | EarthModel |       A (1)       |  76  |\n",
      "|     j2    | EarthModel |       A (3)       |  81  |\n",
      "+-----------+------------+-------------------+------+\n",
      "\n",
      ">>> DEV.PY\n",
      "FILE DESCRIPTION :\n",
      "\t- File:              dev.py\n",
      "\t- Path:              d:\\Z\\dragonFly\\dragonfly\n",
      "\t- Last Modifcation:  2023-01-28 17:59:20.269741\n",
      "\t- CheckSum MD5:      9422d8462f3a603ba9278d9f422a6208\n",
      "\t- SHA256:            a2d50046a8d9deb0d7d0855e95330743bb9d1df6046b66faa37411ab576aa133\n",
      "\n",
      "FILE VALIDATION CRITERIAS:\n",
      "\t- Max Complexity:       B\n",
      "\t- Max Maintenance:      A\n",
      "\t- Min Comment Ration:   30 %\n",
      "\n",
      "+--------------+--------+\n",
      "|   Criteria   | Status |\n",
      "+--------------+--------+\n",
      "| maintenance  |  True  |\n",
      "|  complexity  |  True  |\n",
      "| commentRatio |  True  |\n",
      "+--------------+--------+\n",
      "\n",
      "FILE METRICS :\n",
      "\t- Maintenability:    A (47.0)\n",
      "\t- Coment Percentage: 32.5 %\n",
      "\t- Complexity:\n",
      "\n",
      "+-----------------------+----------------+-------------------+------+\n",
      "|       Item Name       |     Class      | Complexity Letter | Line |\n",
      "+-----------------------+----------------+-------------------+------+\n",
      "|      _collectInfo     |      None      |       A (2)       | 576  |\n",
      "|     chk_complexity    |  CodeMetrics   |       A (1)       |  57  |\n",
      "|    chk_maintenance    |  CodeMetrics   |       A (1)       |  63  |\n",
      "|      chk_comments     |  CodeMetrics   |       A (1)       |  69  |\n",
      "|     _verifyLetter     |  CodeMetrics   |       A (3)       |  76  |\n",
      "|      _verifyRange     |  CodeMetrics   |       A (4)       |  86  |\n",
      "|        __init__       |  FileAnalysis  |       A (3)       | 108  |\n",
      "|        __str__        |  FileAnalysis  |       A (3)       | 129  |\n",
      "|        fileName       |  FileAnalysis  |       A (1)       | 174  |\n",
      "|       fileFolder      |  FileAnalysis  |       A (1)       | 180  |\n",
      "|      checksum_MD5     |  FileAnalysis  |       A (1)       | 186  |\n",
      "|         sha256        |  FileAnalysis  |       A (1)       | 193  |\n",
      "|  lastModificationDate |  FileAnalysis  |       A (1)       | 200  |\n",
      "|    numberOfClasses    |  FileAnalysis  |       A (2)       | 209  |\n",
      "|   numberOfFunctions   |  FileAnalysis  |       A (2)       | 222  |\n",
      "|       complexity      |  FileAnalysis  |       A (3)       | 235  |\n",
      "|    maintenanceIndex   |  FileAnalysis  |       A (1)       | 263  |\n",
      "|   maintenanceLetter   |  FileAnalysis  |       A (1)       | 276  |\n",
      "|      lineMetrics      |  FileAnalysis  |       A (1)       | 285  |\n",
      "|        nbLines        |  FileAnalysis  |       A (1)       | 300  |\n",
      "|   commentsPercentage  |  FileAnalysis  |       A (1)       | 313  |\n",
      "|       _readFile       |  FileAnalysis  |       A (1)       | 332  |\n",
      "|  getValidationStatus  |  FileAnalysis  |       A (1)       | 342  |\n",
      "|        isValid        |  FileAnalysis  |       A (2)       | 356  |\n",
      "|    getInvalidItems    |  FileAnalysis  |       A (3)       | 372  |\n",
      "| getNumberInvalidItems |  FileAnalysis  |       A (1)       | 391  |\n",
      "|  getListInvalidItems  |  FileAnalysis  |       A (3)       | 400  |\n",
      "|        __init__       | FolderAnalysis |       A (2)       | 432  |\n",
      "|        __str__        | FolderAnalysis |       A (1)       | 457  |\n",
      "|       listFiles       | FolderAnalysis |       B (6)       | 467  |\n",
      "|      _getResults      | FolderAnalysis |       A (2)       | 483  |\n",
      "|        isValid        | FolderAnalysis |       A (2)       | 515  |\n",
      "|        toString       | FolderAnalysis |       A (3)       | 529  |\n",
      "+-----------------------+----------------+-------------------+------+\n",
      "\n",
      ">>> GEOGRAPHY.PY\n",
      "FILE DESCRIPTION :\n",
      "\t- File:              geography.py\n",
      "\t- Path:              d:\\Z\\dragonFly\\dragonfly\n",
      "\t- Last Modifcation:  2023-01-28 14:06:19.843932\n",
      "\t- CheckSum MD5:      2d876d5f92e77ded7c571aad34b53a3a\n",
      "\t- SHA256:            21fd6f1ce2dc3e0b10f29b9f5271e9c2d14f4d7b80d08b747ed572e4395fbda7\n",
      "\n",
      "FILE VALIDATION CRITERIAS:\n",
      "\t- Max Complexity:       B\n",
      "\t- Max Maintenance:      A\n",
      "\t- Min Comment Ration:   30 %\n",
      "\n",
      "+--------------+--------+\n",
      "|   Criteria   | Status |\n",
      "+--------------+--------+\n",
      "| maintenance  |  True  |\n",
      "|  complexity  | False  |\n",
      "| commentRatio |  True  |\n",
      "+--------------+--------+\n",
      "\n",
      "FILE METRICS :\n",
      "\t- Maintenability:    A (47.2)\n",
      "\t- Coment Percentage: 46.8 %\n",
      "\t- Complexity:\n",
      "\n",
      "+------------------+----------+-------------------+------+\n",
      "|    Item Name     |  Class   | Complexity Letter | Line |\n",
      "+------------------+----------+-------------------+------+\n",
      "|   DCM_ECI2ECEF   |   None   |       A (1)       | 238  |\n",
      "|   dcm_ecef2ned   |   None   |       A (1)       | 261  |\n",
      "|   dcm_ecef2enu   |   None   |       A (1)       | 279  |\n",
      "|    angle2dcm     |   None   |       A (2)       | 300  |\n",
      "|    dcm2angle     |   None   |       A (2)       | 325  |\n",
      "|     getRange     |   None   |       C (11)      | 367  |\n",
      "|     __init__     | Position |       A (1)       |  23  |\n",
      "|   __getattr__    | Position |       A (1)       |  35  |\n",
      "|   __setattr__    | Position |       A (3)       |  38  |\n",
      "|     __repr__     | Position |       A (1)       |  51  |\n",
      "|      __eq__      | Position |       A (2)       |  55  |\n",
      "|     __sub__      | Position |       A (2)       |  63  |\n",
      "|     fromList     | Position |       A (3)       |  76  |\n",
      "|   __from1DList   | Position |       A (3)       |  94  |\n",
      "| __fromNestedList | Position |       A (2)       | 108  |\n",
      "|     fromLLA      | Position |       A (1)       | 115  |\n",
      "|       norm       | Position |       A (1)       | 158  |\n",
      "|     toNumpy      | Position |       A (1)       | 163  |\n",
      "|      toLLA       | Position |       A (3)       | 171  |\n",
      "+------------------+----------+-------------------+------+\n",
      "\n",
      ">>> GRAVITY.PY\n",
      "FILE DESCRIPTION :\n",
      "\t- File:              gravity.py\n",
      "\t- Path:              d:\\Z\\dragonFly\\dragonfly\n",
      "\t- Last Modifcation:  2023-01-28 14:07:32.721867\n",
      "\t- CheckSum MD5:      f6b29353c0db653b5ec6d6eb5f6a5cd5\n",
      "\t- SHA256:            f1e5f12c9c2b97093f1c17c8ce274f204f59a1a71091a7cdbfc00556aeb5b828\n",
      "\n",
      "FILE VALIDATION CRITERIAS:\n",
      "\t- Max Complexity:       B\n",
      "\t- Max Maintenance:      A\n",
      "\t- Min Comment Ration:   30 %\n",
      "\n",
      "+--------------+--------+\n",
      "|   Criteria   | Status |\n",
      "+--------------+--------+\n",
      "| maintenance  |  True  |\n",
      "|  complexity  |  True  |\n",
      "| commentRatio |  True  |\n",
      "+--------------+--------+\n",
      "\n",
      "FILE METRICS :\n",
      "\t- Maintenability:    A (61.9)\n",
      "\t- Coment Percentage: 59.5 %\n",
      "\t- Complexity:\n",
      "\n",
      "+--------------------+---------+-------------------+------+\n",
      "|     Item Name      |  Class  | Complexity Letter | Line |\n",
      "+--------------------+---------+-------------------+------+\n",
      "|      __init__      | Gravity |       A (1)       |  12  |\n",
      "|    fromPosition    | Gravity |       A (1)       |  28  |\n",
      "|      fromLLA       | Gravity |       A (1)       |  42  |\n",
      "|       toList       | Gravity |       A (1)       |  61  |\n",
      "|      toNumpy       | Gravity |       A (1)       |  70  |\n",
      "| __calculateGravity | Gravity |       A (1)       |  79  |\n",
      "+--------------------+---------+-------------------+------+\n",
      "\n",
      ">>> UTILS.PY\n",
      "FILE DESCRIPTION :\n",
      "\t- File:              utils.py\n",
      "\t- Path:              d:\\Z\\dragonFly\\dragonfly\n",
      "\t- Last Modifcation:  2023-01-28 14:06:19.847934\n",
      "\t- CheckSum MD5:      fd8610c6bf0e81b922e9abd5d6f34cf8\n",
      "\t- SHA256:            1a0f445eb857e7dd7fe34fe34cddcd9693aec1c1cc05d1f49eb6d7b466e51909\n",
      "\n",
      "FILE VALIDATION CRITERIAS:\n",
      "\t- Max Complexity:       B\n",
      "\t- Max Maintenance:      A\n",
      "\t- Min Comment Ration:   30 %\n",
      "\n",
      "+--------------+--------+\n",
      "|   Criteria   | Status |\n",
      "+--------------+--------+\n",
      "| maintenance  |  True  |\n",
      "|  complexity  |  True  |\n",
      "| commentRatio |  True  |\n",
      "+--------------+--------+\n",
      "\n",
      "FILE METRICS :\n",
      "\t- Maintenability:    A (70.9)\n",
      "\t- Coment Percentage: 42.9 %\n",
      "\t- Complexity:\n",
      "\n",
      "+--------------------------+----------------+-------------------+------+\n",
      "|        Item Name         |     Class      | Complexity Letter | Line |\n",
      "+--------------------------+----------------+-------------------+------+\n",
      "|     _assertInstance      |      None      |       A (2)       |  13  |\n",
      "|           rotx           |      None      |       A (1)       |  34  |\n",
      "|           roty           |      None      |       A (1)       |  46  |\n",
      "|           rotz           |      None      |       A (1)       |  58  |\n",
      "|  __fundamentalRotation   |      None      |       A (3)       |  70  |\n",
      "|    __input_check_3x1     |      None      |       B (7)       |  87  |\n",
      "|    __input_check_3x3     |      None      |       A (3)       | 103  |\n",
      "| __createErrorMessageData |      None      |       A (1)       | 115  |\n",
      "|         __init__         | ImmutableClass |       A (2)       | 133  |\n",
      "|       __delattr__        | ImmutableClass |       A (2)       | 139  |\n",
      "|       __setattr__        | ImmutableClass |       A (2)       | 144  |\n",
      "+--------------------------+----------------+-------------------+------+\n",
      "\n"
     ]
    }
   ],
   "source": [
    "import dragonfly.dev\n",
    "\n",
    "a = dragonfly.dev.FileAnalysis(\"dragonfly\\dev.py\")\n",
    "path = \"dragonfly/\"\n",
    "\n",
    "# print(a)\n",
    "\n",
    "# # print (a.fileFolder)\n",
    "# # print(a.isValid())\n",
    "# # print(a.commentsPercentage)\n",
    "# # print(a.getInvalidItems())\n",
    "\n",
    "# # print(a.getNumberInvalidItems())\n",
    "# # print(a.getListInvalidItems())\n",
    "\n",
    "# print(dragonfly.dev.FileAnalysis.MAX_MAINTENACE_LETTER)\n",
    "\n",
    "# c = dragonfly.dev.FolderAnalysis(path)\n",
    "\n",
    "# print(c.isValid())\n",
    "\n",
    "#print(c)\n",
    "\n",
    "b = dragonfly.dev.FolderAnalysis(path)\n",
    "\n",
    "print(b.toString())\n",
    "\n",
    "\n",
    "\n",
    "\n",
    "\n",
    "\n",
    "\n",
    "\n",
    "\n",
    "\n"
   ]
  },
  {
   "cell_type": "code",
   "execution_count": 6,
   "metadata": {},
   "outputs": [
    {
     "name": "stdout",
     "output_type": "stream",
     "text": [
      "['toto', 'maintenace', 'complexity', 'commentRation']\n"
     ]
    }
   ],
   "source": [
    "print([\"toto\"]+list(('maintenace', 'complexity', 'commentRation')))"
   ]
  },
  {
   "cell_type": "code",
   "execution_count": 11,
   "metadata": {},
   "outputs": [
    {
     "name": "stdout",
     "output_type": "stream",
     "text": [
      "getter method called\n",
      "20\n",
      "setter method called\n",
      "getter method called\n",
      "10\n",
      "getter method called\n",
      "10\n"
     ]
    }
   ],
   "source": [
    "# Python program showing a\n",
    "# use of property() function\n",
    "  \n",
    "class Geeks:\n",
    "     _toto =3\n",
    "     def __init__(self,age):\n",
    "          self._age = age\n",
    "       \n",
    "     # function to get value of _age\n",
    "     def get_age(self):\n",
    "         print(\"getter method called\")\n",
    "         return self._age\n",
    "       \n",
    "     # function to set value of _age\n",
    "     def set_age(self, a):\n",
    "         print(\"setter method called\")\n",
    "\n",
    "         self._age = a\n",
    "  \n",
    "     # function to delete _age attribute\n",
    "     def del_age(self):\n",
    "         del self._age\n",
    "     \n",
    "     age = property(get_age, set_age, del_age)\n",
    "     \n",
    "\n",
    "     def get_toto(self):\n",
    "         print(\"getter method called\")\n",
    "         return self._age\n",
    "\n",
    "     def set_toto(self,val):\n",
    "        self._toto = val\n",
    "        print(\"toto modification\")\n",
    "\n",
    "     def del_toto(self):\n",
    "         del self._toto\n",
    "\n",
    "     toto = property(get_toto, set_toto, del_toto)\n",
    "  \n",
    "mark = Geeks(20)\n",
    "\n",
    "print(mark.age)\n",
    "  \n",
    "mark.age = 10\n",
    "  \n",
    "print(mark.age)\n",
    "\n",
    "print(mark.toto)\n"
   ]
  },
  {
   "cell_type": "code",
   "execution_count": 14,
   "metadata": {},
   "outputs": [
    {
     "data": {
      "text/plain": [
       "0"
      ]
     },
     "execution_count": 14,
     "metadata": {},
     "output_type": "execute_result"
    }
   ],
   "source": [
    "VALID_RANGE = {\"min\":0, \"max\":100}\n",
    "VALID_RANGE[\"min\"]"
   ]
  },
  {
   "cell_type": "code",
   "execution_count": 2,
   "metadata": {},
   "outputs": [
    {
     "name": "stdout",
     "output_type": "stream",
     "text": [
      "+---------+---------+---------+---------+\n",
      "| Field 1 | Field 2 | Field 3 | Field 4 |\n",
      "+---------+---------+---------+---------+\n",
      "|    1    |   Bob   |    6    |    11   |\n",
      "|    2    |  Freddy |    4    |    10   |\n",
      "|    3    |   John  |    7    |    13   |\n",
      "+---------+---------+---------+---------+\n"
     ]
    }
   ],
   "source": [
    "from prettytable import PrettyTable\n",
    "my_table = PrettyTable()\n",
    "my_table.add_row([1, \"Bob\", 6, 11])\n",
    "my_table.add_row([2, \"Freddy\", 4, 10])\n",
    "my_table.add_row([3, \"John\", 7, 13])\n",
    "print(my_table)"
   ]
  },
  {
   "cell_type": "code",
   "execution_count": 25,
   "metadata": {},
   "outputs": [
    {
     "ename": "AttributeError",
     "evalue": "'NoneType' object has no attribute 'append'",
     "output_type": "error",
     "traceback": [
      "\u001b[1;31m---------------------------------------------------------------------------\u001b[0m",
      "\u001b[1;31mAttributeError\u001b[0m                            Traceback (most recent call last)",
      "\u001b[1;32m~\\AppData\\Local\\Temp\\ipykernel_15108\\3285146575.py\u001b[0m in \u001b[0;36m<cell line: 6>\u001b[1;34m()\u001b[0m\n\u001b[0;32m      8\u001b[0m         \u001b[0mfileExtension\u001b[0m \u001b[1;33m=\u001b[0m \u001b[0mpathlib\u001b[0m\u001b[1;33m.\u001b[0m\u001b[0mPath\u001b[0m\u001b[1;33m(\u001b[0m\u001b[0mname\u001b[0m\u001b[1;33m)\u001b[0m\u001b[1;33m.\u001b[0m\u001b[0msuffix\u001b[0m\u001b[1;33m\u001b[0m\u001b[1;33m\u001b[0m\u001b[0m\n\u001b[0;32m      9\u001b[0m         \u001b[1;32mif\u001b[0m \u001b[0mfileExtension\u001b[0m \u001b[1;33m==\u001b[0m\u001b[1;34m\".py\"\u001b[0m \u001b[1;32mand\u001b[0m \u001b[0mname\u001b[0m \u001b[1;33m!=\u001b[0m \u001b[1;34m\"__init__.py\"\u001b[0m\u001b[1;33m:\u001b[0m\u001b[1;33m\u001b[0m\u001b[1;33m\u001b[0m\u001b[0m\n\u001b[1;32m---> 10\u001b[1;33m             \u001b[0mlistFiles2test\u001b[0m\u001b[1;33m=\u001b[0m \u001b[0mlistFiles2test\u001b[0m\u001b[1;33m.\u001b[0m\u001b[0mappend\u001b[0m\u001b[1;33m(\u001b[0m\u001b[0mos\u001b[0m\u001b[1;33m.\u001b[0m\u001b[0mpath\u001b[0m\u001b[1;33m.\u001b[0m\u001b[0mjoin\u001b[0m\u001b[1;33m(\u001b[0m\u001b[0mpath\u001b[0m\u001b[1;33m,\u001b[0m \u001b[0mname\u001b[0m\u001b[1;33m)\u001b[0m\u001b[1;33m)\u001b[0m\u001b[1;33m\u001b[0m\u001b[1;33m\u001b[0m\u001b[0m\n\u001b[0m\u001b[0;32m     11\u001b[0m \u001b[1;33m\u001b[0m\u001b[0m\n\u001b[0;32m     12\u001b[0m \u001b[0mprint\u001b[0m\u001b[1;33m(\u001b[0m\u001b[0mlistFiles2test\u001b[0m\u001b[1;33m)\u001b[0m\u001b[1;33m\u001b[0m\u001b[1;33m\u001b[0m\u001b[0m\n",
      "\u001b[1;31mAttributeError\u001b[0m: 'NoneType' object has no attribute 'append'"
     ]
    }
   ],
   "source": [
    "import os\n",
    "import pathlib\n",
    "\n",
    "listFiles2test = [\"\"]\n",
    "\n",
    "for path, subdirs, files in os.walk('dragonfly'):\n",
    "    for name in files:\n",
    "        fileExtension = pathlib.Path(name).suffix\n",
    "        if fileExtension ==\".py\" and name != \"__init__.py\":\n",
    "            listFiles2test= listFiles2test.append(os.path.join(path, name))\n",
    "\n",
    "print(listFiles2test)\n",
    "        "
   ]
  },
  {
   "cell_type": "code",
   "execution_count": 111,
   "metadata": {},
   "outputs": [
    {
     "ename": "AttributeError",
     "evalue": "This object is frozen!",
     "output_type": "error",
     "traceback": [
      "\u001b[1;31m---------------------------------------------------------------------------\u001b[0m",
      "\u001b[1;31mAttributeError\u001b[0m                            Traceback (most recent call last)",
      "\u001b[1;32m~\\AppData\\Local\\Temp\\ipykernel_15108\\3391403361.py\u001b[0m in \u001b[0;36m<cell line: 14>\u001b[1;34m()\u001b[0m\n\u001b[0;32m     12\u001b[0m \u001b[0ma\u001b[0m \u001b[1;33m=\u001b[0m \u001b[0mtestClass\u001b[0m\u001b[1;33m(\u001b[0m\u001b[1;36m3\u001b[0m\u001b[1;33m,\u001b[0m\u001b[1;36m4\u001b[0m\u001b[1;33m)\u001b[0m\u001b[1;33m\u001b[0m\u001b[1;33m\u001b[0m\u001b[0m\n\u001b[0;32m     13\u001b[0m \u001b[1;33m\u001b[0m\u001b[0m\n\u001b[1;32m---> 14\u001b[1;33m \u001b[0ma\u001b[0m\u001b[1;33m.\u001b[0m\u001b[0mx\u001b[0m \u001b[1;33m=\u001b[0m \u001b[1;36m3\u001b[0m\u001b[1;33m\u001b[0m\u001b[1;33m\u001b[0m\u001b[0m\n\u001b[0m\u001b[0;32m     15\u001b[0m \u001b[1;33m\u001b[0m\u001b[0m\n\u001b[0;32m     16\u001b[0m \u001b[1;33m\u001b[0m\u001b[0m\n",
      "\u001b[1;32mc:\\Z\\dragonFly\\dragonfly\\utils.py\u001b[0m in \u001b[0;36m__setattr__\u001b[1;34m(self, *args, **kwargs)\u001b[0m\n\u001b[0;32m    141\u001b[0m     \u001b[1;32mdef\u001b[0m \u001b[0m__setattr__\u001b[0m\u001b[1;33m(\u001b[0m\u001b[0mself\u001b[0m\u001b[1;33m,\u001b[0m \u001b[1;33m*\u001b[0m\u001b[0margs\u001b[0m\u001b[1;33m,\u001b[0m \u001b[1;33m**\u001b[0m\u001b[0mkwargs\u001b[0m\u001b[1;33m)\u001b[0m\u001b[1;33m:\u001b[0m\u001b[1;33m\u001b[0m\u001b[1;33m\u001b[0m\u001b[0m\n\u001b[0;32m    142\u001b[0m         \u001b[1;32mif\u001b[0m \u001b[0mself\u001b[0m\u001b[1;33m.\u001b[0m\u001b[0m_frozen\u001b[0m\u001b[1;33m:\u001b[0m\u001b[1;33m\u001b[0m\u001b[1;33m\u001b[0m\u001b[0m\n\u001b[1;32m--> 143\u001b[1;33m             \u001b[1;32mraise\u001b[0m \u001b[0mAttributeError\u001b[0m\u001b[1;33m(\u001b[0m\u001b[1;34m'This object is frozen!'\u001b[0m\u001b[1;33m)\u001b[0m\u001b[1;33m\u001b[0m\u001b[1;33m\u001b[0m\u001b[0m\n\u001b[0m\u001b[0;32m    144\u001b[0m         \u001b[0mobject\u001b[0m\u001b[1;33m.\u001b[0m\u001b[0m__setattr__\u001b[0m\u001b[1;33m(\u001b[0m\u001b[0mself\u001b[0m\u001b[1;33m,\u001b[0m \u001b[1;33m*\u001b[0m\u001b[0margs\u001b[0m\u001b[1;33m,\u001b[0m \u001b[1;33m**\u001b[0m\u001b[0mkwargs\u001b[0m\u001b[1;33m)\u001b[0m\u001b[1;33m\u001b[0m\u001b[1;33m\u001b[0m\u001b[0m\n",
      "\u001b[1;31mAttributeError\u001b[0m: This object is frozen!"
     ]
    }
   ],
   "source": [
    "import dragonfly.utils\n",
    "\n",
    "class testClass(dragonfly.utils.immutableClass):\n",
    "    def __init__(self,x,y):\n",
    "        self.x = x\n",
    "        self.y = y\n",
    "\n",
    "        # initialize parent class \"SlotsFreezer\"\n",
    "        super().__init__()\n",
    "\n",
    "\n",
    "a = testClass(3,4)\n",
    "\n",
    "a.x = 3\n",
    "\n",
    "\n",
    "\n",
    "\n",
    "\n"
   ]
  },
  {
   "cell_type": "code",
   "execution_count": 2,
   "metadata": {},
   "outputs": [
    {
     "name": "stdout",
     "output_type": "stream",
     "text": [
      "[['c:\\\\Z\\\\dragonFly\\\\dragonfly\\\\constant.py', 12.1], ['c:\\\\Z\\\\dragonFly\\\\dragonfly\\\\dev.py', 34.9], ['c:\\\\Z\\\\dragonFly\\\\dragonfly\\\\geography.py', 47.1], ['c:\\\\Z\\\\dragonFly\\\\dragonfly\\\\gravity.py', 59.5], ['c:\\\\Z\\\\dragonFly\\\\dragonfly\\\\utils.py', 42.9]]\n"
     ]
    }
   ],
   "source": [
    "from dragonfly.dev import FileAnalysis, FolderAnalysis\n",
    "\n",
    "path = 'c:\\\\Z\\\\dragonFly\\\\dragonfly\\\\constant.py'\n",
    "\n",
    "a = FileAnalysis(path)\n",
    "\n",
    "tt = a.complexity\n",
    "\n",
    "#print(tt)\n",
    "\n",
    "path = os. getcwd()\n",
    "\n",
    "b = FolderAnalysis(path)\n",
    "\n",
    "print(b.commentPercentage)\n"
   ]
  },
  {
   "cell_type": "code",
   "execution_count": 1,
   "metadata": {},
   "outputs": [
    {
     "name": "stdout",
     "output_type": "stream",
     "text": [
      "[[-6.04109601e-16]\n",
      " [-0.00000000e+00]\n",
      " [-9.83206684e+00]]\n",
      "9.814197355899799\n",
      "9.83206684120325\n"
     ]
    }
   ],
   "source": [
    "from dragonfly.gravity import Gravity\n",
    "from dragonfly.geography import Position\n",
    "from dragonfly.constant import EarthModel\n",
    "import numpy as np\n",
    "\n",
    "pos = Position.fromLLA(np.deg2rad(90),0,0)\n",
    "\n",
    "g = Gravity(pos.x,pos.y,pos.z).toNumpy()\n",
    "\n",
    "print(g)\n",
    "\n",
    "ee = EarthModel()\n",
    "\n",
    "print((ee.mu/ee.a**2)*(1+3/2*ee.j2))\n",
    "\n",
    "\n",
    "print((ee.mu/ee.b**2)*(1+3/2*ee.j2*(ee.a/ee.b)**2*-2))\n",
    "\n"
   ]
  },
  {
   "cell_type": "code",
   "execution_count": 3,
   "metadata": {},
   "outputs": [
    {
     "name": "stdout",
     "output_type": "stream",
     "text": [
      "-2430601.8276721514 -4702442.703100768 3546587.3582014046\n",
      "[[ 0.25676467  0.4967581   0.82903757]\n",
      " [ 0.88834836 -0.45917011  0.        ]\n",
      " [ 0.38066927  0.73647416 -0.55919291]]\n",
      "0.25676467171487716\n",
      "0.8883483593780858\n",
      "[ 0. -1.  0.]\n"
     ]
    }
   ],
   "source": [
    "from dragonfly.geography import Position, DCM_ECEF2NED\n",
    "from dragonfly.utils import rotz\n",
    "import numpy as np\n",
    "\n",
    "lat = np.deg2rad(( 34. +  0./60 + 0.00174/3600)) # North\n",
    "lon = np.deg2rad(-(117. + 20./60 + 0.84965/3600)) # West\n",
    "alt = 251.702 # [meters]\n",
    "\n",
    "aa= Position.fromLLA(lat,lon,alt)\n",
    "print(aa.x,aa.y,aa.z)\n",
    "\n",
    "print(DCM_ECEF2NED(lat,lon))\n",
    "\n",
    "print(-np.cos(lon)*np.sin(lat))\n",
    "print(-np.sin(lon))\n",
    "\n",
    "print(rotz(np.pi/2)@np.array([1,0,0]))\n"
   ]
  },
  {
   "cell_type": "code",
   "execution_count": 4,
   "metadata": {},
   "outputs": [
    {
     "name": "stdout",
     "output_type": "stream",
     "text": [
      "0.0\n"
     ]
    }
   ],
   "source": [
    "print(float(0))"
   ]
  },
  {
   "cell_type": "code",
   "execution_count": 4,
   "metadata": {},
   "outputs": [
    {
     "name": "stdout",
     "output_type": "stream",
     "text": [
      "ECEF Coordinates:\n",
      "x : 6378137.0\n",
      "y : 0.0\n",
      "z : 0.0\n"
     ]
    },
    {
     "data": {
      "text/plain": [
       "'ECEF Coordinates:\\nx : 0.0\\ny : 0.0\\nz : 0.0'"
      ]
     },
     "execution_count": 4,
     "metadata": {},
     "output_type": "execute_result"
    }
   ],
   "source": [
    "from dragonfly.geography import Position\n",
    "import numpy as np\n",
    "\n",
    "pos = Position.fromLLA(0,0,0)\n",
    "\n",
    "lat,lon, alt = pos.toLLA()\n",
    "\n",
    "print(pos)\n",
    "\n",
    "str(Position(0,0,0))\n",
    "\n"
   ]
  },
  {
   "cell_type": "code",
   "execution_count": 6,
   "metadata": {},
   "outputs": [
    {
     "name": "stdout",
     "output_type": "stream",
     "text": [
      "2\n"
     ]
    }
   ],
   "source": [
    "class toto:\n",
    "    def __init__(self,x=0,y=2):\n",
    "        self.x=x\n",
    "        self.y=y\n",
    "\n",
    "a= [[toto(),toto()],[toto(),toto()]]\n",
    "\n",
    "print(len(a))"
   ]
  },
  {
   "cell_type": "code",
   "execution_count": 1,
   "metadata": {},
   "outputs": [
    {
     "ename": "TypeError",
     "evalue": "'float' object cannot be interpreted as an integer",
     "output_type": "error",
     "traceback": [
      "\u001b[1;31m---------------------------------------------------------------------------\u001b[0m",
      "\u001b[1;31mTypeError\u001b[0m                                 Traceback (most recent call last)",
      "\u001b[1;32m~\\AppData\\Local\\Temp\\ipykernel_17980\\411011423.py\u001b[0m in \u001b[0;36m<cell line: 1>\u001b[1;34m()\u001b[0m\n\u001b[1;32m----> 1\u001b[1;33m \u001b[0mprint\u001b[0m\u001b[1;33m(\u001b[0m\u001b[0mrange\u001b[0m\u001b[1;33m(\u001b[0m\u001b[1;36m3.4\u001b[0m\u001b[1;33m)\u001b[0m\u001b[1;33m)\u001b[0m\u001b[1;33m\u001b[0m\u001b[1;33m\u001b[0m\u001b[0m\n\u001b[0m",
      "\u001b[1;31mTypeError\u001b[0m: 'float' object cannot be interpreted as an integer"
     ]
    }
   ],
   "source": [
    "print(range(3.4))"
   ]
  },
  {
   "cell_type": "code",
   "execution_count": 2,
   "metadata": {},
   "outputs": [
    {
     "name": "stdout",
     "output_type": "stream",
     "text": [
      "ZeroDivisionError Occurred and Handled\n"
     ]
    }
   ],
   "source": [
    "# Program to handle multiple errors with one\n",
    "# except statement\n",
    "# Python 3\n",
    "\n",
    "def fun(a):\n",
    "\tif a < 4:\n",
    "\n",
    "\t\t# throws ZeroDivisionError for a = 3\n",
    "\t\tb = a/(a-3)\n",
    "\n",
    "\t# throws NameError if a >= 4\n",
    "\tprint(\"Value of b = \", b)\n",
    "\t\n",
    "try:\n",
    "\tfun(3)\n",
    "\tfun(5)\n",
    "\n",
    "# note that braces () are necessary here for\n",
    "# multiple exceptions\n",
    "except ZeroDivisionError:\n",
    "\tprint(\"ZeroDivisionError Occurred and Handled\")\n",
    "except NameError:\n",
    "\tprint(\"NameError Occurred and Handled\")\n"
   ]
  },
  {
   "cell_type": "code",
   "execution_count": 13,
   "metadata": {},
   "outputs": [
    {
     "name": "stdout",
     "output_type": "stream",
     "text": [
      "True\n"
     ]
    }
   ],
   "source": [
    "list1 = [1, 2, 3, 4, 5]\n",
    "list2 = [1, 2, 3, 4, 5]\n",
    "\n",
    "print(list1==list2)"
   ]
  },
  {
   "cell_type": "code",
   "execution_count": 1,
   "metadata": {},
   "outputs": [
    {
     "name": "stdout",
     "output_type": "stream",
     "text": [
      "WGS84\n",
      "6378137.0\n",
      "6378137.0\n",
      "0.0033528106647474805\n",
      "6356752.314245179\n"
     ]
    }
   ],
   "source": [
    "from dragonfly.constant import EarthModel\n",
    "\n",
    "aa = EarthModel(\"wgs84\")\n",
    "\n",
    "print(aa.model)\n",
    "print(aa.a)\n",
    "\n",
    "aa.model=\"wgs84\"\n",
    "print(aa.a)\n",
    "\n",
    "print(aa.f)\n",
    "\n",
    "print(aa.b)\n",
    "\n"
   ]
  },
  {
   "cell_type": "code",
   "execution_count": 10,
   "metadata": {},
   "outputs": [
    {
     "ename": "TypeError",
     "evalue": "unsupported operand type(s) for -: 'list' and 'list'",
     "output_type": "error",
     "traceback": [
      "\u001b[1;31m---------------------------------------------------------------------------\u001b[0m",
      "\u001b[1;31mTypeError\u001b[0m                                 Traceback (most recent call last)",
      "\u001b[1;32m~\\AppData\\Local\\Temp\\ipykernel_33200\\3892428894.py\u001b[0m in \u001b[0;36m<cell line: 9>\u001b[1;34m()\u001b[0m\n\u001b[0;32m      7\u001b[0m \u001b[0ma\u001b[0m\u001b[1;33m=\u001b[0m \u001b[0mLLA4ECEF\u001b[0m\u001b[1;33m[\u001b[0m\u001b[1;36m0\u001b[0m\u001b[1;33m]\u001b[0m\u001b[1;33m[\u001b[0m\u001b[1;34m\"ECEF\"\u001b[0m\u001b[1;33m]\u001b[0m\u001b[1;33m\u001b[0m\u001b[1;33m\u001b[0m\u001b[0m\n\u001b[0;32m      8\u001b[0m \u001b[1;33m\u001b[0m\u001b[0m\n\u001b[1;32m----> 9\u001b[1;33m \u001b[1;33m[\u001b[0m\u001b[1;36m1\u001b[0m\u001b[1;33m,\u001b[0m\u001b[1;36m2\u001b[0m\u001b[1;33m,\u001b[0m\u001b[1;36m3\u001b[0m\u001b[1;33m]\u001b[0m\u001b[1;33m-\u001b[0m\u001b[1;33m[\u001b[0m\u001b[1;36m1\u001b[0m\u001b[1;33m,\u001b[0m\u001b[1;36m2\u001b[0m\u001b[1;33m,\u001b[0m\u001b[1;36m3\u001b[0m\u001b[1;33m]\u001b[0m\u001b[1;33m\u001b[0m\u001b[1;33m\u001b[0m\u001b[0m\n\u001b[0m",
      "\u001b[1;31mTypeError\u001b[0m: unsupported operand type(s) for -: 'list' and 'list'"
     ]
    }
   ],
   "source": [
    "LLA4ECEF = [\n",
    "    {\"ECEF\": [ 5117118.21, -1087677.05, 3638574.7 ],\n",
    "    \"LLA\"  : [35,-12,1234]}, #lat lon alt\n",
    "    {\"ECEF\": [ 1193872.96, 1584322.93, -6064737.91 ],\n",
    "    \"LLA\"  : [-72,53,22135]}]\n",
    "\n",
    "a= LLA4ECEF[0][\"ECEF\"]\n",
    "\n",
    "[1,2,3]-[1,2,3]\n"
   ]
  }
 ],
 "metadata": {
  "kernelspec": {
   "display_name": "Python 3",
   "language": "python",
   "name": "python3"
  },
  "language_info": {
   "codemirror_mode": {
    "name": "ipython",
    "version": 3
   },
   "file_extension": ".py",
   "mimetype": "text/x-python",
   "name": "python",
   "nbconvert_exporter": "python",
   "pygments_lexer": "ipython3",
   "version": "3.10.2"
  },
  "orig_nbformat": 4,
  "vscode": {
   "interpreter": {
    "hash": "26de051ba29f2982a8de78e945f0abaf191376122a1563185a90213a26c5da77"
   }
  }
 },
 "nbformat": 4,
 "nbformat_minor": 2
}
