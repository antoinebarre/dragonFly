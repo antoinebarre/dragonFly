{
 "cells": [
  {
   "cell_type": "code",
   "execution_count": 46,
   "metadata": {},
   "outputs": [
    {
     "name": "stdout",
     "output_type": "stream",
     "text": [
      "<class 'radon.visitors.Function'>\n",
      "[Function(name='DCM_ECI2ECEF', lineno=242, col_offset=0, endline=262, is_method=False, classname=None, closures=[], complexity=1), Function(name='dcm_ecef2ned', lineno=265, col_offset=0, endline=280, is_method=False, classname=None, closures=[], complexity=1), Function(name='dcm_ecef2enu', lineno=283, col_offset=0, endline=300, is_method=False, classname=None, closures=[], complexity=1), Function(name='angle2dcm', lineno=304, col_offset=0, endline=326, is_method=False, classname=None, closures=[], complexity=2), Function(name='dcm2angle', lineno=329, col_offset=0, endline=368, is_method=False, classname=None, closures=[], complexity=2), Function(name='getRange', lineno=371, col_offset=0, endline=456, is_method=False, classname=None, closures=[], complexity=11)]\n",
      "DCM_ECI2ECEF\n"
     ]
    }
   ],
   "source": [
    "import radon.visitors\n",
    "import radon.metrics\n",
    "\n",
    "with open('dragonfly/geography.py', 'r') as file:\n",
    "    data = file.read()\n",
    "\n",
    "from radon.visitors import ComplexityVisitor\n",
    "\n",
    "v = ComplexityVisitor.from_code(data)\n",
    "\n",
    "a=v.functions\n",
    "print(type(a[1]))\n",
    "print(a)\n",
    "b= a[0]\n",
    "print(b.complexity)\n",
    "\n",
    "\n",
    "\n",
    "\n"
   ]
  },
  {
   "cell_type": "code",
   "execution_count": 25,
   "metadata": {},
   "outputs": [
    {
     "ename": "AttributeError",
     "evalue": "'NoneType' object has no attribute 'append'",
     "output_type": "error",
     "traceback": [
      "\u001b[1;31m---------------------------------------------------------------------------\u001b[0m",
      "\u001b[1;31mAttributeError\u001b[0m                            Traceback (most recent call last)",
      "\u001b[1;32m~\\AppData\\Local\\Temp\\ipykernel_15108\\3285146575.py\u001b[0m in \u001b[0;36m<cell line: 6>\u001b[1;34m()\u001b[0m\n\u001b[0;32m      8\u001b[0m         \u001b[0mfileExtension\u001b[0m \u001b[1;33m=\u001b[0m \u001b[0mpathlib\u001b[0m\u001b[1;33m.\u001b[0m\u001b[0mPath\u001b[0m\u001b[1;33m(\u001b[0m\u001b[0mname\u001b[0m\u001b[1;33m)\u001b[0m\u001b[1;33m.\u001b[0m\u001b[0msuffix\u001b[0m\u001b[1;33m\u001b[0m\u001b[1;33m\u001b[0m\u001b[0m\n\u001b[0;32m      9\u001b[0m         \u001b[1;32mif\u001b[0m \u001b[0mfileExtension\u001b[0m \u001b[1;33m==\u001b[0m\u001b[1;34m\".py\"\u001b[0m \u001b[1;32mand\u001b[0m \u001b[0mname\u001b[0m \u001b[1;33m!=\u001b[0m \u001b[1;34m\"__init__.py\"\u001b[0m\u001b[1;33m:\u001b[0m\u001b[1;33m\u001b[0m\u001b[1;33m\u001b[0m\u001b[0m\n\u001b[1;32m---> 10\u001b[1;33m             \u001b[0mlistFiles2test\u001b[0m\u001b[1;33m=\u001b[0m \u001b[0mlistFiles2test\u001b[0m\u001b[1;33m.\u001b[0m\u001b[0mappend\u001b[0m\u001b[1;33m(\u001b[0m\u001b[0mos\u001b[0m\u001b[1;33m.\u001b[0m\u001b[0mpath\u001b[0m\u001b[1;33m.\u001b[0m\u001b[0mjoin\u001b[0m\u001b[1;33m(\u001b[0m\u001b[0mpath\u001b[0m\u001b[1;33m,\u001b[0m \u001b[0mname\u001b[0m\u001b[1;33m)\u001b[0m\u001b[1;33m)\u001b[0m\u001b[1;33m\u001b[0m\u001b[1;33m\u001b[0m\u001b[0m\n\u001b[0m\u001b[0;32m     11\u001b[0m \u001b[1;33m\u001b[0m\u001b[0m\n\u001b[0;32m     12\u001b[0m \u001b[0mprint\u001b[0m\u001b[1;33m(\u001b[0m\u001b[0mlistFiles2test\u001b[0m\u001b[1;33m)\u001b[0m\u001b[1;33m\u001b[0m\u001b[1;33m\u001b[0m\u001b[0m\n",
      "\u001b[1;31mAttributeError\u001b[0m: 'NoneType' object has no attribute 'append'"
     ]
    }
   ],
   "source": [
    "import os\n",
    "import pathlib\n",
    "\n",
    "listFiles2test = [\"\"]\n",
    "\n",
    "for path, subdirs, files in os.walk('dragonfly'):\n",
    "    for name in files:\n",
    "        fileExtension = pathlib.Path(name).suffix\n",
    "        if fileExtension ==\".py\" and name != \"__init__.py\":\n",
    "            listFiles2test= listFiles2test.append(os.path.join(path, name))\n",
    "\n",
    "print(listFiles2test)\n",
    "        "
   ]
  },
  {
   "cell_type": "code",
   "execution_count": 69,
   "metadata": {},
   "outputs": [
    {
     "name": "stdout",
     "output_type": "stream",
     "text": [
      "C\n",
      "[('_assertInstance', HalsteadReport(h1=1, h2=1, N1=1, N2=1, vocabulary=2, length=2, calculated_length=0.0, volume=2.0, difficulty=0.5, effort=1.0, time=0.05555555555555555, bugs=0.0006666666666666666)), ('rotx', HalsteadReport(h1=0, h2=0, N1=0, N2=0, vocabulary=0, length=0, calculated_length=0, volume=0, difficulty=0, effort=0, time=0.0, bugs=0.0)), ('roty', HalsteadReport(h1=0, h2=0, N1=0, N2=0, vocabulary=0, length=0, calculated_length=0, volume=0, difficulty=0, effort=0, time=0.0, bugs=0.0)), ('rotz', HalsteadReport(h1=0, h2=0, N1=0, N2=0, vocabulary=0, length=0, calculated_length=0, volume=0, difficulty=0, effort=0, time=0.0, bugs=0.0)), ('__fundamentalRotation', HalsteadReport(h1=1, h2=2, N1=1, N2=2, vocabulary=3, length=3, calculated_length=2.0, volume=4.754887502163469, difficulty=0.5, effort=2.3774437510817346, time=0.1320802083934297, bugs=0.0015849625007211565)), ('__input_check_3x1', HalsteadReport(h1=4, h2=10, N1=6, N2=11, vocabulary=14, length=17, calculated_length=41.219280948873624, volume=64.72503367497926, difficulty=2.2, effort=142.3950740849544, time=7.9108374491641325, bugs=0.021575011224993085)), ('__input_check_3x3', HalsteadReport(h1=2, h2=4, N1=2, N2=4, vocabulary=6, length=6, calculated_length=10.0, volume=15.509775004326936, difficulty=1.0, effort=15.509775004326936, time=0.861654166907052, bugs=0.005169925001442312)), ('__createErrorMessageData', HalsteadReport(h1=1, h2=4, N1=2, N2=4, vocabulary=5, length=6, calculated_length=8.0, volume=13.931568569324174, difficulty=0.5, effort=6.965784284662087, time=0.3869880158145604, bugs=0.004643856189774725))]\n"
     ]
    }
   ],
   "source": [
    "import os\n",
    "import radon.visitors\n",
    "import radon.metrics\n",
    "from radon.visitors import ComplexityVisitor\n",
    "\n",
    "path = os. getcwd()\n",
    "\n",
    "pythonFiles = [os.path.join(root, name)\n",
    "             for root, dirs, files in os.walk(path)\n",
    "             for name in files\n",
    "             if (name.endswith((\".py\")) and # only python files\n",
    "                 name !=\"__init__.py\" and # remove the module initialisation \n",
    "                 not(\"test\" in name.lower()) # remove test file\n",
    "                 )]\n",
    "\n",
    "#test namedtuple\n",
    "from collections import namedtuple\n",
    "\n",
    "CodeMetrics = namedtuple(\"CodeMetrics\",[\"path\",\"name\",\"CyclomaticComplexity\"])\n",
    "\n",
    "result = []\n",
    "\n",
    "# analyse file\n",
    "for pythonFile in pythonFiles:\n",
    "    with open(pythonFile, 'r') as file:\n",
    "        data = file.read()\n",
    "\n",
    "    res = ComplexityVisitor.from_code(data).functions\n",
    "\n",
    "    for item in res :\n",
    "        result.append(CodeMetrics(pythonFile,item.name,item.complexity))\n",
    "\n",
    "\n",
    "# see https://realpython.com/python-namedtuple/   \n",
    "\n",
    "import radon.complexity\n",
    "\n",
    "print(radon.complexity.cc_rank(11))\n",
    "    \n",
    "import radon.metrics\n",
    "\n",
    "tt = radon.metrics.h_visit(data)\n",
    "\n",
    "print(tt.functions)\n",
    "\n"
   ]
  },
  {
   "cell_type": "code",
   "execution_count": 1,
   "metadata": {},
   "outputs": [
    {
     "name": "stdout",
     "output_type": "stream",
     "text": [
      "The input shall a [3x3] numpy array\n",
      "Current Value    : [[6.9525323e-310 0.0000000e+000]\n",
      " [0.0000000e+000 1.4326314e-311]]\n",
      "Curent Data Type : <class 'numpy.ndarray'>\n",
      "[[6.9525323e-310 0.0000000e+000]\n",
      " [0.0000000e+000 1.4326314e-311]]\n",
      "None\n"
     ]
    }
   ],
   "source": [
    "from dragonfly.utils import input_check_3x3\n",
    "import numpy as np\n",
    "value = np.ndarray((2,2))\n",
    "print(input_check_3x3(value))"
   ]
  },
  {
   "cell_type": "code",
   "execution_count": 2,
   "metadata": {},
   "outputs": [
    {
     "name": "stdout",
     "output_type": "stream",
     "text": [
      "[[-6.04109601e-16]\n",
      " [-0.00000000e+00]\n",
      " [-9.83206684e+00]]\n",
      "9.814197355899799\n",
      "9.83206684120325\n"
     ]
    }
   ],
   "source": [
    "from dragonfly.gravity import Gravity\n",
    "from dragonfly.geography import Position\n",
    "from dragonfly.constant import EarthModel\n",
    "import numpy as np\n",
    "\n",
    "pos = Position.fromLLA(np.deg2rad(90),0,0)\n",
    "\n",
    "g = Gravity(pos.x,pos.y,pos.z).toNumpy()\n",
    "\n",
    "print(g)\n",
    "\n",
    "ee = EarthModel()\n",
    "\n",
    "print((ee.mu/ee.a**2)*(1+3/2*ee.j2))\n",
    "\n",
    "\n",
    "print((ee.mu/ee.b**2)*(1+3/2*ee.j2*(ee.a/ee.b)**2*-2))\n",
    "\n"
   ]
  },
  {
   "cell_type": "code",
   "execution_count": 3,
   "metadata": {},
   "outputs": [
    {
     "name": "stdout",
     "output_type": "stream",
     "text": [
      "-2430601.8276721514 -4702442.703100768 3546587.3582014046\n",
      "[[ 0.25676467  0.4967581   0.82903757]\n",
      " [ 0.88834836 -0.45917011  0.        ]\n",
      " [ 0.38066927  0.73647416 -0.55919291]]\n",
      "0.25676467171487716\n",
      "0.8883483593780858\n",
      "[ 0. -1.  0.]\n"
     ]
    }
   ],
   "source": [
    "from dragonfly.geography import Position, DCM_ECEF2NED\n",
    "from dragonfly.utils import rotz\n",
    "import numpy as np\n",
    "\n",
    "lat = np.deg2rad(( 34. +  0./60 + 0.00174/3600)) # North\n",
    "lon = np.deg2rad(-(117. + 20./60 + 0.84965/3600)) # West\n",
    "alt = 251.702 # [meters]\n",
    "\n",
    "aa= Position.fromLLA(lat,lon,alt)\n",
    "print(aa.x,aa.y,aa.z)\n",
    "\n",
    "print(DCM_ECEF2NED(lat,lon))\n",
    "\n",
    "print(-np.cos(lon)*np.sin(lat))\n",
    "print(-np.sin(lon))\n",
    "\n",
    "print(rotz(np.pi/2)@np.array([1,0,0]))\n"
   ]
  },
  {
   "cell_type": "code",
   "execution_count": 4,
   "metadata": {},
   "outputs": [
    {
     "name": "stdout",
     "output_type": "stream",
     "text": [
      "0.0\n"
     ]
    }
   ],
   "source": [
    "print(float(0))"
   ]
  },
  {
   "cell_type": "code",
   "execution_count": 4,
   "metadata": {},
   "outputs": [
    {
     "name": "stdout",
     "output_type": "stream",
     "text": [
      "ECEF Coordinates:\n",
      "x : 6378137.0\n",
      "y : 0.0\n",
      "z : 0.0\n"
     ]
    },
    {
     "data": {
      "text/plain": [
       "'ECEF Coordinates:\\nx : 0.0\\ny : 0.0\\nz : 0.0'"
      ]
     },
     "execution_count": 4,
     "metadata": {},
     "output_type": "execute_result"
    }
   ],
   "source": [
    "from dragonfly.geography import Position\n",
    "import numpy as np\n",
    "\n",
    "pos = Position.fromLLA(0,0,0)\n",
    "\n",
    "lat,lon, alt = pos.toLLA()\n",
    "\n",
    "print(pos)\n",
    "\n",
    "str(Position(0,0,0))\n",
    "\n"
   ]
  },
  {
   "cell_type": "code",
   "execution_count": 6,
   "metadata": {},
   "outputs": [
    {
     "name": "stdout",
     "output_type": "stream",
     "text": [
      "2\n"
     ]
    }
   ],
   "source": [
    "class toto:\n",
    "    def __init__(self,x=0,y=2):\n",
    "        self.x=x\n",
    "        self.y=y\n",
    "\n",
    "a= [[toto(),toto()],[toto(),toto()]]\n",
    "\n",
    "print(len(a))"
   ]
  },
  {
   "cell_type": "code",
   "execution_count": 1,
   "metadata": {},
   "outputs": [
    {
     "ename": "TypeError",
     "evalue": "'float' object cannot be interpreted as an integer",
     "output_type": "error",
     "traceback": [
      "\u001b[1;31m---------------------------------------------------------------------------\u001b[0m",
      "\u001b[1;31mTypeError\u001b[0m                                 Traceback (most recent call last)",
      "\u001b[1;32m~\\AppData\\Local\\Temp\\ipykernel_17980\\411011423.py\u001b[0m in \u001b[0;36m<cell line: 1>\u001b[1;34m()\u001b[0m\n\u001b[1;32m----> 1\u001b[1;33m \u001b[0mprint\u001b[0m\u001b[1;33m(\u001b[0m\u001b[0mrange\u001b[0m\u001b[1;33m(\u001b[0m\u001b[1;36m3.4\u001b[0m\u001b[1;33m)\u001b[0m\u001b[1;33m)\u001b[0m\u001b[1;33m\u001b[0m\u001b[1;33m\u001b[0m\u001b[0m\n\u001b[0m",
      "\u001b[1;31mTypeError\u001b[0m: 'float' object cannot be interpreted as an integer"
     ]
    }
   ],
   "source": [
    "print(range(3.4))"
   ]
  },
  {
   "cell_type": "code",
   "execution_count": 2,
   "metadata": {},
   "outputs": [
    {
     "name": "stdout",
     "output_type": "stream",
     "text": [
      "ZeroDivisionError Occurred and Handled\n"
     ]
    }
   ],
   "source": [
    "# Program to handle multiple errors with one\n",
    "# except statement\n",
    "# Python 3\n",
    "\n",
    "def fun(a):\n",
    "\tif a < 4:\n",
    "\n",
    "\t\t# throws ZeroDivisionError for a = 3\n",
    "\t\tb = a/(a-3)\n",
    "\n",
    "\t# throws NameError if a >= 4\n",
    "\tprint(\"Value of b = \", b)\n",
    "\t\n",
    "try:\n",
    "\tfun(3)\n",
    "\tfun(5)\n",
    "\n",
    "# note that braces () are necessary here for\n",
    "# multiple exceptions\n",
    "except ZeroDivisionError:\n",
    "\tprint(\"ZeroDivisionError Occurred and Handled\")\n",
    "except NameError:\n",
    "\tprint(\"NameError Occurred and Handled\")\n"
   ]
  },
  {
   "cell_type": "code",
   "execution_count": 13,
   "metadata": {},
   "outputs": [
    {
     "name": "stdout",
     "output_type": "stream",
     "text": [
      "True\n"
     ]
    }
   ],
   "source": [
    "list1 = [1, 2, 3, 4, 5]\n",
    "list2 = [1, 2, 3, 4, 5]\n",
    "\n",
    "print(list1==list2)"
   ]
  },
  {
   "cell_type": "code",
   "execution_count": 1,
   "metadata": {},
   "outputs": [
    {
     "name": "stdout",
     "output_type": "stream",
     "text": [
      "WGS84\n",
      "6378137.0\n",
      "6378137.0\n",
      "0.0033528106647474805\n",
      "6356752.314245179\n"
     ]
    }
   ],
   "source": [
    "from dragonfly.constant import EarthModel\n",
    "\n",
    "aa = EarthModel(\"wgs84\")\n",
    "\n",
    "print(aa.model)\n",
    "print(aa.a)\n",
    "\n",
    "aa.model=\"wgs84\"\n",
    "print(aa.a)\n",
    "\n",
    "print(aa.f)\n",
    "\n",
    "print(aa.b)\n",
    "\n"
   ]
  },
  {
   "cell_type": "code",
   "execution_count": 10,
   "metadata": {},
   "outputs": [
    {
     "ename": "TypeError",
     "evalue": "unsupported operand type(s) for -: 'list' and 'list'",
     "output_type": "error",
     "traceback": [
      "\u001b[1;31m---------------------------------------------------------------------------\u001b[0m",
      "\u001b[1;31mTypeError\u001b[0m                                 Traceback (most recent call last)",
      "\u001b[1;32m~\\AppData\\Local\\Temp\\ipykernel_33200\\3892428894.py\u001b[0m in \u001b[0;36m<cell line: 9>\u001b[1;34m()\u001b[0m\n\u001b[0;32m      7\u001b[0m \u001b[0ma\u001b[0m\u001b[1;33m=\u001b[0m \u001b[0mLLA4ECEF\u001b[0m\u001b[1;33m[\u001b[0m\u001b[1;36m0\u001b[0m\u001b[1;33m]\u001b[0m\u001b[1;33m[\u001b[0m\u001b[1;34m\"ECEF\"\u001b[0m\u001b[1;33m]\u001b[0m\u001b[1;33m\u001b[0m\u001b[1;33m\u001b[0m\u001b[0m\n\u001b[0;32m      8\u001b[0m \u001b[1;33m\u001b[0m\u001b[0m\n\u001b[1;32m----> 9\u001b[1;33m \u001b[1;33m[\u001b[0m\u001b[1;36m1\u001b[0m\u001b[1;33m,\u001b[0m\u001b[1;36m2\u001b[0m\u001b[1;33m,\u001b[0m\u001b[1;36m3\u001b[0m\u001b[1;33m]\u001b[0m\u001b[1;33m-\u001b[0m\u001b[1;33m[\u001b[0m\u001b[1;36m1\u001b[0m\u001b[1;33m,\u001b[0m\u001b[1;36m2\u001b[0m\u001b[1;33m,\u001b[0m\u001b[1;36m3\u001b[0m\u001b[1;33m]\u001b[0m\u001b[1;33m\u001b[0m\u001b[1;33m\u001b[0m\u001b[0m\n\u001b[0m",
      "\u001b[1;31mTypeError\u001b[0m: unsupported operand type(s) for -: 'list' and 'list'"
     ]
    }
   ],
   "source": [
    "LLA4ECEF = [\n",
    "    {\"ECEF\": [ 5117118.21, -1087677.05, 3638574.7 ],\n",
    "    \"LLA\"  : [35,-12,1234]}, #lat lon alt\n",
    "    {\"ECEF\": [ 1193872.96, 1584322.93, -6064737.91 ],\n",
    "    \"LLA\"  : [-72,53,22135]}]\n",
    "\n",
    "a= LLA4ECEF[0][\"ECEF\"]\n",
    "\n",
    "[1,2,3]-[1,2,3]\n"
   ]
  }
 ],
 "metadata": {
  "kernelspec": {
   "display_name": "Python 3",
   "language": "python",
   "name": "python3"
  },
  "language_info": {
   "codemirror_mode": {
    "name": "ipython",
    "version": 3
   },
   "file_extension": ".py",
   "mimetype": "text/x-python",
   "name": "python",
   "nbconvert_exporter": "python",
   "pygments_lexer": "ipython3",
   "version": "3.10.4"
  },
  "orig_nbformat": 4,
  "vscode": {
   "interpreter": {
    "hash": "5e48fcb79489ab703dd824c59a8c349527d233fd916d52da21c71d44650c89cb"
   }
  }
 },
 "nbformat": 4,
 "nbformat_minor": 2
}
