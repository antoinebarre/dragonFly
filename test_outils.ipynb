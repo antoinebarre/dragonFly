{
 "cells": [
  {
   "cell_type": "code",
   "execution_count": 4,
   "metadata": {},
   "outputs": [
    {
     "ename": "TypeError",
     "evalue": "only size-1 arrays can be converted to Python scalars",
     "output_type": "error",
     "traceback": [
      "\u001b[1;31m---------------------------------------------------------------------------\u001b[0m",
      "\u001b[1;31mTypeError\u001b[0m                                 Traceback (most recent call last)",
      "\u001b[1;32m~\\AppData\\Local\\Temp\\ipykernel_28336\\4106359051.py\u001b[0m in \u001b[0;36m<cell line: 10>\u001b[1;34m()\u001b[0m\n\u001b[0;32m      8\u001b[0m \u001b[0ma\u001b[0m\u001b[1;33m=\u001b[0m\u001b[0mnp\u001b[0m\u001b[1;33m.\u001b[0m\u001b[0marray\u001b[0m\u001b[1;33m(\u001b[0m\u001b[1;33m[\u001b[0m\u001b[1;36m3\u001b[0m\u001b[1;33m,\u001b[0m\u001b[1;36m3\u001b[0m\u001b[1;33m]\u001b[0m\u001b[1;33m)\u001b[0m\u001b[1;33m\u001b[0m\u001b[1;33m\u001b[0m\u001b[0m\n\u001b[0;32m      9\u001b[0m \u001b[1;33m\u001b[0m\u001b[0m\n\u001b[1;32m---> 10\u001b[1;33m \u001b[0mfloat\u001b[0m\u001b[1;33m(\u001b[0m\u001b[0ma\u001b[0m\u001b[1;33m)\u001b[0m\u001b[1;33m\u001b[0m\u001b[1;33m\u001b[0m\u001b[0m\n\u001b[0m",
      "\u001b[1;31mTypeError\u001b[0m: only size-1 arrays can be converted to Python scalars"
     ]
    }
   ],
   "source": [
    "import dragonfly\n",
    "\n",
    "a = dragonfly.geography.Position(0,0,0)\n",
    "\n",
    "\n",
    "import numpy as np\n",
    "\n",
    "a=np.array([3,3])\n",
    "\n",
    "float(a)"
   ]
  },
  {
   "cell_type": "code",
   "execution_count": 46,
   "metadata": {},
   "outputs": [
    {
     "name": "stdout",
     "output_type": "stream",
     "text": [
      "int32\n",
      "<class 'tuple'>\n",
      "True\n",
      "2\n"
     ]
    }
   ],
   "source": [
    "import numpy as np\n",
    "\n",
    "a =np.array((1,1))\n",
    "\n",
    "b=a.dtype\n",
    "print(b)\n",
    "\n",
    "\n",
    "np.issubdtype(b, np.number)\n",
    "\n",
    "print(type(a.shape))\n",
    "\n",
    "print(list(a.shape) in [[2],[3,1],[1,3]])\n",
    "\n",
    "print(len((2,3)))\n",
    "\n",
    "\n",
    "\n"
   ]
  },
  {
   "cell_type": "code",
   "execution_count": 3,
   "metadata": {},
   "outputs": [
    {
     "name": "stdout",
     "output_type": "stream",
     "text": [
      "-2430601.8276721514 -4702442.703100768 3546587.3582014046\n",
      "[[ 0.25676467  0.4967581   0.82903757]\n",
      " [ 0.88834836 -0.45917011  0.        ]\n",
      " [ 0.38066927  0.73647416 -0.55919291]]\n",
      "0.25676467171487716\n",
      "0.8883483593780858\n",
      "[ 0. -1.  0.]\n"
     ]
    }
   ],
   "source": [
    "from dragonfly.geography import Position, DCM_ECEF2NED\n",
    "from dragonfly.utils import rotz\n",
    "import numpy as np\n",
    "\n",
    "lat = np.deg2rad(( 34. +  0./60 + 0.00174/3600)) # North\n",
    "lon = np.deg2rad(-(117. + 20./60 + 0.84965/3600)) # West\n",
    "alt = 251.702 # [meters]\n",
    "\n",
    "aa= Position.fromLLA(lat,lon,alt)\n",
    "print(aa.x,aa.y,aa.z)\n",
    "\n",
    "print(DCM_ECEF2NED(lat,lon))\n",
    "\n",
    "print(-np.cos(lon)*np.sin(lat))\n",
    "print(-np.sin(lon))\n",
    "\n",
    "print(rotz(np.pi/2)@np.array([1,0,0]))\n"
   ]
  },
  {
   "cell_type": "code",
   "execution_count": 4,
   "metadata": {},
   "outputs": [
    {
     "name": "stdout",
     "output_type": "stream",
     "text": [
      "0.0\n"
     ]
    }
   ],
   "source": [
    "print(float(0))"
   ]
  },
  {
   "cell_type": "code",
   "execution_count": 2,
   "metadata": {},
   "outputs": [
    {
     "name": "stdout",
     "output_type": "stream",
     "text": [
      "5117118.20903842\n"
     ]
    }
   ],
   "source": [
    "from dragonfly.geography import Position\n",
    "import numpy as np\n",
    "\n",
    "pos=[35,-12,1234]\n",
    "\n",
    "aa = Position.fromLLA(np.deg2rad(pos[0]),np.deg2rad(pos[1]),pos[2])\n",
    "\n",
    "print(aa.x)\n",
    "\n",
    "\n",
    "\n"
   ]
  },
  {
   "cell_type": "code",
   "execution_count": 6,
   "metadata": {},
   "outputs": [
    {
     "name": "stdout",
     "output_type": "stream",
     "text": [
      "2\n"
     ]
    }
   ],
   "source": [
    "class toto:\n",
    "    def __init__(self,x=0,y=2):\n",
    "        self.x=x\n",
    "        self.y=y\n",
    "\n",
    "a= [[toto(),toto()],[toto(),toto()]]\n",
    "\n",
    "print(len(a))"
   ]
  },
  {
   "cell_type": "code",
   "execution_count": null,
   "metadata": {},
   "outputs": [],
   "source": [
    "float([3,4])"
   ]
  },
  {
   "cell_type": "code",
   "execution_count": 2,
   "metadata": {},
   "outputs": [
    {
     "name": "stdout",
     "output_type": "stream",
     "text": [
      "ZeroDivisionError Occurred and Handled\n"
     ]
    }
   ],
   "source": [
    "# Program to handle multiple errors with one\n",
    "# except statement\n",
    "# Python 3\n",
    "\n",
    "def fun(a):\n",
    "\tif a < 4:\n",
    "\n",
    "\t\t# throws ZeroDivisionError for a = 3\n",
    "\t\tb = a/(a-3)\n",
    "\n",
    "\t# throws NameError if a >= 4\n",
    "\tprint(\"Value of b = \", b)\n",
    "\t\n",
    "try:\n",
    "\tfun(3)\n",
    "\tfun(5)\n",
    "\n",
    "# note that braces () are necessary here for\n",
    "# multiple exceptions\n",
    "except ZeroDivisionError:\n",
    "\tprint(\"ZeroDivisionError Occurred and Handled\")\n",
    "except NameError:\n",
    "\tprint(\"NameError Occurred and Handled\")\n"
   ]
  },
  {
   "cell_type": "code",
   "execution_count": 13,
   "metadata": {},
   "outputs": [
    {
     "name": "stdout",
     "output_type": "stream",
     "text": [
      "True\n"
     ]
    }
   ],
   "source": [
    "list1 = [1, 2, 3, 4, 5]\n",
    "list2 = [1, 2, 3, 4, 5]\n",
    "\n",
    "print(list1==list2)"
   ]
  },
  {
   "cell_type": "code",
   "execution_count": 1,
   "metadata": {},
   "outputs": [
    {
     "name": "stdout",
     "output_type": "stream",
     "text": [
      "WGS84\n",
      "6378137.0\n",
      "6378137.0\n",
      "0.0033528106647474805\n",
      "6356752.314245179\n"
     ]
    }
   ],
   "source": [
    "from dragonfly.constant import EarthModel\n",
    "\n",
    "aa = EarthModel(\"wgs84\")\n",
    "\n",
    "print(aa.model)\n",
    "print(aa.a)\n",
    "\n",
    "aa.model=\"wgs84\"\n",
    "print(aa.a)\n",
    "\n",
    "print(aa.f)\n",
    "\n",
    "print(aa.b)\n",
    "\n"
   ]
  },
  {
   "cell_type": "code",
   "execution_count": 10,
   "metadata": {},
   "outputs": [
    {
     "ename": "TypeError",
     "evalue": "unsupported operand type(s) for -: 'list' and 'list'",
     "output_type": "error",
     "traceback": [
      "\u001b[1;31m---------------------------------------------------------------------------\u001b[0m",
      "\u001b[1;31mTypeError\u001b[0m                                 Traceback (most recent call last)",
      "\u001b[1;32m~\\AppData\\Local\\Temp\\ipykernel_33200\\3892428894.py\u001b[0m in \u001b[0;36m<cell line: 9>\u001b[1;34m()\u001b[0m\n\u001b[0;32m      7\u001b[0m \u001b[0ma\u001b[0m\u001b[1;33m=\u001b[0m \u001b[0mLLA4ECEF\u001b[0m\u001b[1;33m[\u001b[0m\u001b[1;36m0\u001b[0m\u001b[1;33m]\u001b[0m\u001b[1;33m[\u001b[0m\u001b[1;34m\"ECEF\"\u001b[0m\u001b[1;33m]\u001b[0m\u001b[1;33m\u001b[0m\u001b[1;33m\u001b[0m\u001b[0m\n\u001b[0;32m      8\u001b[0m \u001b[1;33m\u001b[0m\u001b[0m\n\u001b[1;32m----> 9\u001b[1;33m \u001b[1;33m[\u001b[0m\u001b[1;36m1\u001b[0m\u001b[1;33m,\u001b[0m\u001b[1;36m2\u001b[0m\u001b[1;33m,\u001b[0m\u001b[1;36m3\u001b[0m\u001b[1;33m]\u001b[0m\u001b[1;33m-\u001b[0m\u001b[1;33m[\u001b[0m\u001b[1;36m1\u001b[0m\u001b[1;33m,\u001b[0m\u001b[1;36m2\u001b[0m\u001b[1;33m,\u001b[0m\u001b[1;36m3\u001b[0m\u001b[1;33m]\u001b[0m\u001b[1;33m\u001b[0m\u001b[1;33m\u001b[0m\u001b[0m\n\u001b[0m",
      "\u001b[1;31mTypeError\u001b[0m: unsupported operand type(s) for -: 'list' and 'list'"
     ]
    }
   ],
   "source": [
    "LLA4ECEF = [\n",
    "    {\"ECEF\": [ 5117118.21, -1087677.05, 3638574.7 ],\n",
    "    \"LLA\"  : [35,-12,1234]}, #lat lon alt\n",
    "    {\"ECEF\": [ 1193872.96, 1584322.93, -6064737.91 ],\n",
    "    \"LLA\"  : [-72,53,22135]}]\n",
    "\n",
    "a= LLA4ECEF[0][\"ECEF\"]\n",
    "\n",
    "[1,2,3]-[1,2,3]\n"
   ]
  }
 ],
 "metadata": {
  "kernelspec": {
   "display_name": "Python 3",
   "language": "python",
   "name": "python3"
  },
  "language_info": {
   "codemirror_mode": {
    "name": "ipython",
    "version": 3
   },
   "file_extension": ".py",
   "mimetype": "text/x-python",
   "name": "python",
   "nbconvert_exporter": "python",
   "pygments_lexer": "ipython3",
   "version": "3.10.4"
  },
  "orig_nbformat": 4,
  "vscode": {
   "interpreter": {
    "hash": "5e48fcb79489ab703dd824c59a8c349527d233fd916d52da21c71d44650c89cb"
   }
  }
 },
 "nbformat": 4,
 "nbformat_minor": 2
}
